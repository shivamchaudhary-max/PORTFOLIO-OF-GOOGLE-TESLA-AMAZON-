{
 "cells": [
  {
   "cell_type": "code",
   "execution_count": 1,
   "id": "5cb590da",
   "metadata": {
    "execution": {
     "iopub.execute_input": "2022-01-17T08:51:21.545360Z",
     "iopub.status.busy": "2022-01-17T08:51:21.544094Z",
     "iopub.status.idle": "2022-01-17T08:51:21.553243Z",
     "shell.execute_reply": "2022-01-17T08:51:21.553854Z"
    },
    "id": "PTj5KGHdzVle",
    "papermill": {
     "duration": 0.054765,
     "end_time": "2022-01-17T08:51:21.554262",
     "exception": false,
     "start_time": "2022-01-17T08:51:21.499497",
     "status": "completed"
    },
    "tags": []
   },
   "outputs": [],
   "source": [
    "import pandas as pd"
   ]
  },
  {
   "cell_type": "markdown",
   "id": "584da02b",
   "metadata": {
    "id": "KuQP7XO-zq4Y",
    "papermill": {
     "duration": 0.037845,
     "end_time": "2022-01-17T08:51:21.633232",
     "exception": false,
     "start_time": "2022-01-17T08:51:21.595387",
     "status": "completed"
    },
    "tags": []
   },
   "source": [
    "q1"
   ]
  },
  {
   "cell_type": "code",
   "execution_count": 2,
   "id": "ec3e116f",
   "metadata": {
    "execution": {
     "iopub.execute_input": "2022-01-17T08:51:21.715995Z",
     "iopub.status.busy": "2022-01-17T08:51:21.715332Z",
     "iopub.status.idle": "2022-01-17T08:51:33.448787Z",
     "shell.execute_reply": "2022-01-17T08:51:33.449435Z"
    },
    "id": "1kenrpLyzh31",
    "outputId": "d4c1f7d7-5225-46d2-90e3-f1e00acfbe4d",
    "papermill": {
     "duration": 11.777965,
     "end_time": "2022-01-17T08:51:33.449659",
     "exception": false,
     "start_time": "2022-01-17T08:51:21.671694",
     "status": "completed"
    },
    "tags": []
   },
   "outputs": [
    {
     "name": "stdout",
     "output_type": "stream",
     "text": [
      "Collecting quandl\r\n",
      "  Downloading Quandl-3.7.0-py2.py3-none-any.whl (26 kB)\r\n",
      "Requirement already satisfied: pandas>=0.14 in /opt/conda/lib/python3.7/site-packages (from quandl) (1.3.4)\r\n",
      "Collecting inflection>=0.3.1\r\n",
      "  Downloading inflection-0.5.1-py2.py3-none-any.whl (9.5 kB)\r\n",
      "Requirement already satisfied: six in /opt/conda/lib/python3.7/site-packages (from quandl) (1.16.0)\r\n",
      "Requirement already satisfied: numpy>=1.8 in /opt/conda/lib/python3.7/site-packages (from quandl) (1.19.5)\r\n",
      "Requirement already satisfied: python-dateutil in /opt/conda/lib/python3.7/site-packages (from quandl) (2.8.0)\r\n",
      "Requirement already satisfied: more-itertools in /opt/conda/lib/python3.7/site-packages (from quandl) (8.12.0)\r\n",
      "Requirement already satisfied: requests>=2.7.0 in /opt/conda/lib/python3.7/site-packages (from quandl) (2.26.0)\r\n",
      "Requirement already satisfied: pytz>=2017.3 in /opt/conda/lib/python3.7/site-packages (from pandas>=0.14->quandl) (2021.3)\r\n",
      "Requirement already satisfied: certifi>=2017.4.17 in /opt/conda/lib/python3.7/site-packages (from requests>=2.7.0->quandl) (2021.10.8)\r\n",
      "Requirement already satisfied: urllib3<1.27,>=1.21.1 in /opt/conda/lib/python3.7/site-packages (from requests>=2.7.0->quandl) (1.26.7)\r\n",
      "Requirement already satisfied: charset-normalizer~=2.0.0 in /opt/conda/lib/python3.7/site-packages (from requests>=2.7.0->quandl) (2.0.8)\r\n",
      "Requirement already satisfied: idna<4,>=2.5 in /opt/conda/lib/python3.7/site-packages (from requests>=2.7.0->quandl) (3.1)\r\n",
      "Installing collected packages: inflection, quandl\r\n",
      "Successfully installed inflection-0.5.1 quandl-3.7.0\r\n",
      "\u001b[33mWARNING: Running pip as the 'root' user can result in broken permissions and conflicting behaviour with the system package manager. It is recommended to use a virtual environment instead: https://pip.pypa.io/warnings/venv\u001b[0m\r\n"
     ]
    }
   ],
   "source": [
    "!pip install quandl"
   ]
  },
  {
   "cell_type": "code",
   "execution_count": 3,
   "id": "5cac4e0d",
   "metadata": {
    "execution": {
     "iopub.execute_input": "2022-01-17T08:51:33.539037Z",
     "iopub.status.busy": "2022-01-17T08:51:33.537927Z",
     "iopub.status.idle": "2022-01-17T08:51:33.564672Z",
     "shell.execute_reply": "2022-01-17T08:51:33.565285Z"
    },
    "id": "yV4HqHUFzlIf",
    "papermill": {
     "duration": 0.073247,
     "end_time": "2022-01-17T08:51:33.565504",
     "exception": false,
     "start_time": "2022-01-17T08:51:33.492257",
     "status": "completed"
    },
    "tags": []
   },
   "outputs": [],
   "source": [
    "import quandl"
   ]
  },
  {
   "cell_type": "code",
   "execution_count": 4,
   "id": "1da3af06",
   "metadata": {
    "execution": {
     "iopub.execute_input": "2022-01-17T08:51:33.652467Z",
     "iopub.status.busy": "2022-01-17T08:51:33.651383Z",
     "iopub.status.idle": "2022-01-17T08:51:33.661572Z",
     "shell.execute_reply": "2022-01-17T08:51:33.662172Z"
    },
    "id": "pFZuzrpJztxs",
    "papermill": {
     "duration": 0.05519,
     "end_time": "2022-01-17T08:51:33.662387",
     "exception": false,
     "start_time": "2022-01-17T08:51:33.607197",
     "status": "completed"
    },
    "tags": []
   },
   "outputs": [],
   "source": [
    "start=pd.to_datetime('2012-01-01')\n",
    "end=pd.to_datetime('2021-01-01')"
   ]
  },
  {
   "cell_type": "code",
   "execution_count": 5,
   "id": "7168695d",
   "metadata": {
    "execution": {
     "iopub.execute_input": "2022-01-17T08:51:33.748311Z",
     "iopub.status.busy": "2022-01-17T08:51:33.747239Z",
     "iopub.status.idle": "2022-01-17T08:51:36.230507Z",
     "shell.execute_reply": "2022-01-17T08:51:36.229831Z"
    },
    "id": "4ZFtEZme1fGm",
    "papermill": {
     "duration": 2.527615,
     "end_time": "2022-01-17T08:51:36.230676",
     "exception": false,
     "start_time": "2022-01-17T08:51:33.703061",
     "status": "completed"
    },
    "tags": []
   },
   "outputs": [],
   "source": [
    "goog=quandl.get('WIKI/GOOG.11',start_date=start,end_date=end)\n",
    "tsla=quandl.get('WIKI/TSLA.11',start_date=start,end_date=end)\n",
    "amzn=quandl.get('WIKI/AMZN.11',start_date=start,end_date=end)"
   ]
  },
  {
   "cell_type": "code",
   "execution_count": 6,
   "id": "90fa7263",
   "metadata": {
    "execution": {
     "iopub.execute_input": "2022-01-17T08:51:36.318547Z",
     "iopub.status.busy": "2022-01-17T08:51:36.317777Z",
     "iopub.status.idle": "2022-01-17T08:51:36.373978Z",
     "shell.execute_reply": "2022-01-17T08:51:36.374577Z"
    },
    "id": "A3u25m5q3guY",
    "papermill": {
     "duration": 0.102353,
     "end_time": "2022-01-17T08:51:36.374841",
     "exception": false,
     "start_time": "2022-01-17T08:51:36.272488",
     "status": "completed"
    },
    "tags": []
   },
   "outputs": [],
   "source": [
    "goog.to_csv('GOOG_CLOSE')\n",
    "tsla.to_csv('TSLA_CLOSE')\n",
    "amzn.to_csv('AMZN_CLOSE')"
   ]
  },
  {
   "cell_type": "code",
   "execution_count": 7,
   "id": "144bacfd",
   "metadata": {
    "execution": {
     "iopub.execute_input": "2022-01-17T08:51:36.468550Z",
     "iopub.status.busy": "2022-01-17T08:51:36.467448Z",
     "iopub.status.idle": "2022-01-17T08:51:36.480833Z",
     "shell.execute_reply": "2022-01-17T08:51:36.481412Z"
    },
    "id": "kIS9Pv8r340x",
    "outputId": "f5728485-09ad-48cc-edec-bb14acc2ec60",
    "papermill": {
     "duration": 0.064602,
     "end_time": "2022-01-17T08:51:36.481612",
     "exception": false,
     "start_time": "2022-01-17T08:51:36.417010",
     "status": "completed"
    },
    "tags": []
   },
   "outputs": [
    {
     "data": {
      "text/html": [
       "<div>\n",
       "<style scoped>\n",
       "    .dataframe tbody tr th:only-of-type {\n",
       "        vertical-align: middle;\n",
       "    }\n",
       "\n",
       "    .dataframe tbody tr th {\n",
       "        vertical-align: top;\n",
       "    }\n",
       "\n",
       "    .dataframe thead th {\n",
       "        text-align: right;\n",
       "    }\n",
       "</style>\n",
       "<table border=\"1\" class=\"dataframe\">\n",
       "  <thead>\n",
       "    <tr style=\"text-align: right;\">\n",
       "      <th></th>\n",
       "      <th>Adj. Close</th>\n",
       "    </tr>\n",
       "    <tr>\n",
       "      <th>Date</th>\n",
       "      <th></th>\n",
       "    </tr>\n",
       "  </thead>\n",
       "  <tbody>\n",
       "    <tr>\n",
       "      <th>2014-03-27</th>\n",
       "      <td>558.46</td>\n",
       "    </tr>\n",
       "    <tr>\n",
       "      <th>2014-03-28</th>\n",
       "      <td>559.99</td>\n",
       "    </tr>\n",
       "    <tr>\n",
       "      <th>2014-03-31</th>\n",
       "      <td>556.97</td>\n",
       "    </tr>\n",
       "    <tr>\n",
       "      <th>2014-04-01</th>\n",
       "      <td>567.16</td>\n",
       "    </tr>\n",
       "    <tr>\n",
       "      <th>2014-04-02</th>\n",
       "      <td>567.00</td>\n",
       "    </tr>\n",
       "  </tbody>\n",
       "</table>\n",
       "</div>"
      ],
      "text/plain": [
       "            Adj. Close\n",
       "Date                  \n",
       "2014-03-27      558.46\n",
       "2014-03-28      559.99\n",
       "2014-03-31      556.97\n",
       "2014-04-01      567.16\n",
       "2014-04-02      567.00"
      ]
     },
     "execution_count": 7,
     "metadata": {},
     "output_type": "execute_result"
    }
   ],
   "source": [
    "goog.head()"
   ]
  },
  {
   "cell_type": "code",
   "execution_count": 8,
   "id": "810c4e47",
   "metadata": {
    "execution": {
     "iopub.execute_input": "2022-01-17T08:51:36.572641Z",
     "iopub.status.busy": "2022-01-17T08:51:36.571910Z",
     "iopub.status.idle": "2022-01-17T08:51:36.576405Z",
     "shell.execute_reply": "2022-01-17T08:51:36.575792Z"
    },
    "id": "LF1JIDs-7N5G",
    "outputId": "f3023c74-1a7f-4387-ccc1-c0931c73e14a",
    "papermill": {
     "duration": 0.053069,
     "end_time": "2022-01-17T08:51:36.576561",
     "exception": false,
     "start_time": "2022-01-17T08:51:36.523492",
     "status": "completed"
    },
    "tags": []
   },
   "outputs": [
    {
     "data": {
      "text/plain": [
       "558.46"
      ]
     },
     "execution_count": 8,
     "metadata": {},
     "output_type": "execute_result"
    }
   ],
   "source": [
    "goog.iloc[0]['Adj. Close']"
   ]
  },
  {
   "cell_type": "code",
   "execution_count": 9,
   "id": "5a363703",
   "metadata": {
    "execution": {
     "iopub.execute_input": "2022-01-17T08:51:36.665277Z",
     "iopub.status.busy": "2022-01-17T08:51:36.664561Z",
     "iopub.status.idle": "2022-01-17T08:51:36.685549Z",
     "shell.execute_reply": "2022-01-17T08:51:36.684934Z"
    },
    "id": "zzAMqTe27Y6t",
    "papermill": {
     "duration": 0.066678,
     "end_time": "2022-01-17T08:51:36.685732",
     "exception": false,
     "start_time": "2022-01-17T08:51:36.619054",
     "status": "completed"
    },
    "tags": []
   },
   "outputs": [],
   "source": [
    "for stock_df in (goog,tsla,amzn):\n",
    "    stock_df['Normed Return']=stock_df['Adj. Close']/stock_df.iloc[0]['Adj. Close']"
   ]
  },
  {
   "cell_type": "code",
   "execution_count": 10,
   "id": "809acfc6",
   "metadata": {
    "execution": {
     "iopub.execute_input": "2022-01-17T08:51:36.776867Z",
     "iopub.status.busy": "2022-01-17T08:51:36.775832Z",
     "iopub.status.idle": "2022-01-17T08:51:36.788342Z",
     "shell.execute_reply": "2022-01-17T08:51:36.787659Z"
    },
    "id": "8OookkLM7nSW",
    "outputId": "85561654-23e0-4286-90d5-5a325a26c9bf",
    "papermill": {
     "duration": 0.059344,
     "end_time": "2022-01-17T08:51:36.788537",
     "exception": false,
     "start_time": "2022-01-17T08:51:36.729193",
     "status": "completed"
    },
    "tags": []
   },
   "outputs": [
    {
     "data": {
      "text/html": [
       "<div>\n",
       "<style scoped>\n",
       "    .dataframe tbody tr th:only-of-type {\n",
       "        vertical-align: middle;\n",
       "    }\n",
       "\n",
       "    .dataframe tbody tr th {\n",
       "        vertical-align: top;\n",
       "    }\n",
       "\n",
       "    .dataframe thead th {\n",
       "        text-align: right;\n",
       "    }\n",
       "</style>\n",
       "<table border=\"1\" class=\"dataframe\">\n",
       "  <thead>\n",
       "    <tr style=\"text-align: right;\">\n",
       "      <th></th>\n",
       "      <th>Adj. Close</th>\n",
       "      <th>Normed Return</th>\n",
       "    </tr>\n",
       "    <tr>\n",
       "      <th>Date</th>\n",
       "      <th></th>\n",
       "      <th></th>\n",
       "    </tr>\n",
       "  </thead>\n",
       "  <tbody>\n",
       "    <tr>\n",
       "      <th>2014-03-27</th>\n",
       "      <td>558.46</td>\n",
       "      <td>1.000000</td>\n",
       "    </tr>\n",
       "    <tr>\n",
       "      <th>2014-03-28</th>\n",
       "      <td>559.99</td>\n",
       "      <td>1.002740</td>\n",
       "    </tr>\n",
       "    <tr>\n",
       "      <th>2014-03-31</th>\n",
       "      <td>556.97</td>\n",
       "      <td>0.997332</td>\n",
       "    </tr>\n",
       "    <tr>\n",
       "      <th>2014-04-01</th>\n",
       "      <td>567.16</td>\n",
       "      <td>1.015579</td>\n",
       "    </tr>\n",
       "    <tr>\n",
       "      <th>2014-04-02</th>\n",
       "      <td>567.00</td>\n",
       "      <td>1.015292</td>\n",
       "    </tr>\n",
       "  </tbody>\n",
       "</table>\n",
       "</div>"
      ],
      "text/plain": [
       "            Adj. Close  Normed Return\n",
       "Date                                 \n",
       "2014-03-27      558.46       1.000000\n",
       "2014-03-28      559.99       1.002740\n",
       "2014-03-31      556.97       0.997332\n",
       "2014-04-01      567.16       1.015579\n",
       "2014-04-02      567.00       1.015292"
      ]
     },
     "execution_count": 10,
     "metadata": {},
     "output_type": "execute_result"
    }
   ],
   "source": [
    "goog.head()"
   ]
  },
  {
   "cell_type": "code",
   "execution_count": 11,
   "id": "d751d32f",
   "metadata": {
    "execution": {
     "iopub.execute_input": "2022-01-17T08:51:36.887611Z",
     "iopub.status.busy": "2022-01-17T08:51:36.886812Z",
     "iopub.status.idle": "2022-01-17T08:51:36.891004Z",
     "shell.execute_reply": "2022-01-17T08:51:36.890455Z"
    },
    "id": "qXIqWlTA738b",
    "papermill": {
     "duration": 0.057158,
     "end_time": "2022-01-17T08:51:36.891165",
     "exception": false,
     "start_time": "2022-01-17T08:51:36.834007",
     "status": "completed"
    },
    "tags": []
   },
   "outputs": [],
   "source": [
    "for stock_df,allo in zip([goog,tsla,amzn],[.3,.2,.4,.1]):\n",
    "    stock_df['Allocation']=stock_df['Normed Return']*allo"
   ]
  },
  {
   "cell_type": "code",
   "execution_count": 12,
   "id": "a49b0728",
   "metadata": {
    "execution": {
     "iopub.execute_input": "2022-01-17T08:51:36.991036Z",
     "iopub.status.busy": "2022-01-17T08:51:36.990216Z",
     "iopub.status.idle": "2022-01-17T08:51:36.994470Z",
     "shell.execute_reply": "2022-01-17T08:51:36.994985Z"
    },
    "id": "_rbHh5O578lW",
    "outputId": "3ee99d91-b81e-4e86-f4f9-a605cfdf2cf8",
    "papermill": {
     "duration": 0.060389,
     "end_time": "2022-01-17T08:51:36.995202",
     "exception": false,
     "start_time": "2022-01-17T08:51:36.934813",
     "status": "completed"
    },
    "tags": []
   },
   "outputs": [
    {
     "data": {
      "text/html": [
       "<div>\n",
       "<style scoped>\n",
       "    .dataframe tbody tr th:only-of-type {\n",
       "        vertical-align: middle;\n",
       "    }\n",
       "\n",
       "    .dataframe tbody tr th {\n",
       "        vertical-align: top;\n",
       "    }\n",
       "\n",
       "    .dataframe thead th {\n",
       "        text-align: right;\n",
       "    }\n",
       "</style>\n",
       "<table border=\"1\" class=\"dataframe\">\n",
       "  <thead>\n",
       "    <tr style=\"text-align: right;\">\n",
       "      <th></th>\n",
       "      <th>Adj. Close</th>\n",
       "      <th>Normed Return</th>\n",
       "      <th>Allocation</th>\n",
       "    </tr>\n",
       "    <tr>\n",
       "      <th>Date</th>\n",
       "      <th></th>\n",
       "      <th></th>\n",
       "      <th></th>\n",
       "    </tr>\n",
       "  </thead>\n",
       "  <tbody>\n",
       "    <tr>\n",
       "      <th>2014-03-27</th>\n",
       "      <td>558.46</td>\n",
       "      <td>1.000000</td>\n",
       "      <td>0.300000</td>\n",
       "    </tr>\n",
       "    <tr>\n",
       "      <th>2014-03-28</th>\n",
       "      <td>559.99</td>\n",
       "      <td>1.002740</td>\n",
       "      <td>0.300822</td>\n",
       "    </tr>\n",
       "    <tr>\n",
       "      <th>2014-03-31</th>\n",
       "      <td>556.97</td>\n",
       "      <td>0.997332</td>\n",
       "      <td>0.299200</td>\n",
       "    </tr>\n",
       "    <tr>\n",
       "      <th>2014-04-01</th>\n",
       "      <td>567.16</td>\n",
       "      <td>1.015579</td>\n",
       "      <td>0.304674</td>\n",
       "    </tr>\n",
       "    <tr>\n",
       "      <th>2014-04-02</th>\n",
       "      <td>567.00</td>\n",
       "      <td>1.015292</td>\n",
       "      <td>0.304588</td>\n",
       "    </tr>\n",
       "  </tbody>\n",
       "</table>\n",
       "</div>"
      ],
      "text/plain": [
       "            Adj. Close  Normed Return  Allocation\n",
       "Date                                             \n",
       "2014-03-27      558.46       1.000000    0.300000\n",
       "2014-03-28      559.99       1.002740    0.300822\n",
       "2014-03-31      556.97       0.997332    0.299200\n",
       "2014-04-01      567.16       1.015579    0.304674\n",
       "2014-04-02      567.00       1.015292    0.304588"
      ]
     },
     "execution_count": 12,
     "metadata": {},
     "output_type": "execute_result"
    }
   ],
   "source": [
    "goog.head()"
   ]
  },
  {
   "cell_type": "code",
   "execution_count": 13,
   "id": "8dac99c0",
   "metadata": {
    "execution": {
     "iopub.execute_input": "2022-01-17T08:51:37.094305Z",
     "iopub.status.busy": "2022-01-17T08:51:37.093517Z",
     "iopub.status.idle": "2022-01-17T08:51:37.096845Z",
     "shell.execute_reply": "2022-01-17T08:51:37.096120Z"
    },
    "id": "V5Kn8ZwN8CvD",
    "papermill": {
     "duration": 0.057184,
     "end_time": "2022-01-17T08:51:37.097028",
     "exception": false,
     "start_time": "2022-01-17T08:51:37.039844",
     "status": "completed"
    },
    "tags": []
   },
   "outputs": [],
   "source": [
    "for stock_df in (goog,tsla,amzn):\n",
    "    stock_df['Position Values']=stock_df['Allocation']*1000000"
   ]
  },
  {
   "cell_type": "code",
   "execution_count": 14,
   "id": "1a9df1ec",
   "metadata": {
    "execution": {
     "iopub.execute_input": "2022-01-17T08:51:37.200688Z",
     "iopub.status.busy": "2022-01-17T08:51:37.199438Z",
     "iopub.status.idle": "2022-01-17T08:51:37.203807Z",
     "shell.execute_reply": "2022-01-17T08:51:37.204385Z"
    },
    "id": "Ywcf5Z5K8RGZ",
    "outputId": "7b81734c-55fc-4735-8aef-0e2999a8661c",
    "papermill": {
     "duration": 0.062785,
     "end_time": "2022-01-17T08:51:37.204599",
     "exception": false,
     "start_time": "2022-01-17T08:51:37.141814",
     "status": "completed"
    },
    "tags": []
   },
   "outputs": [
    {
     "data": {
      "text/html": [
       "<div>\n",
       "<style scoped>\n",
       "    .dataframe tbody tr th:only-of-type {\n",
       "        vertical-align: middle;\n",
       "    }\n",
       "\n",
       "    .dataframe tbody tr th {\n",
       "        vertical-align: top;\n",
       "    }\n",
       "\n",
       "    .dataframe thead th {\n",
       "        text-align: right;\n",
       "    }\n",
       "</style>\n",
       "<table border=\"1\" class=\"dataframe\">\n",
       "  <thead>\n",
       "    <tr style=\"text-align: right;\">\n",
       "      <th></th>\n",
       "      <th>Adj. Close</th>\n",
       "      <th>Normed Return</th>\n",
       "      <th>Allocation</th>\n",
       "      <th>Position Values</th>\n",
       "    </tr>\n",
       "    <tr>\n",
       "      <th>Date</th>\n",
       "      <th></th>\n",
       "      <th></th>\n",
       "      <th></th>\n",
       "      <th></th>\n",
       "    </tr>\n",
       "  </thead>\n",
       "  <tbody>\n",
       "    <tr>\n",
       "      <th>2014-03-27</th>\n",
       "      <td>558.46</td>\n",
       "      <td>1.000000</td>\n",
       "      <td>0.300000</td>\n",
       "      <td>300000.000000</td>\n",
       "    </tr>\n",
       "    <tr>\n",
       "      <th>2014-03-28</th>\n",
       "      <td>559.99</td>\n",
       "      <td>1.002740</td>\n",
       "      <td>0.300822</td>\n",
       "      <td>300821.903091</td>\n",
       "    </tr>\n",
       "    <tr>\n",
       "      <th>2014-03-31</th>\n",
       "      <td>556.97</td>\n",
       "      <td>0.997332</td>\n",
       "      <td>0.299200</td>\n",
       "      <td>299199.584572</td>\n",
       "    </tr>\n",
       "    <tr>\n",
       "      <th>2014-04-01</th>\n",
       "      <td>567.16</td>\n",
       "      <td>1.015579</td>\n",
       "      <td>0.304674</td>\n",
       "      <td>304673.566594</td>\n",
       "    </tr>\n",
       "    <tr>\n",
       "      <th>2014-04-02</th>\n",
       "      <td>567.00</td>\n",
       "      <td>1.015292</td>\n",
       "      <td>0.304588</td>\n",
       "      <td>304587.615944</td>\n",
       "    </tr>\n",
       "  </tbody>\n",
       "</table>\n",
       "</div>"
      ],
      "text/plain": [
       "            Adj. Close  Normed Return  Allocation  Position Values\n",
       "Date                                                              \n",
       "2014-03-27      558.46       1.000000    0.300000    300000.000000\n",
       "2014-03-28      559.99       1.002740    0.300822    300821.903091\n",
       "2014-03-31      556.97       0.997332    0.299200    299199.584572\n",
       "2014-04-01      567.16       1.015579    0.304674    304673.566594\n",
       "2014-04-02      567.00       1.015292    0.304588    304587.615944"
      ]
     },
     "execution_count": 14,
     "metadata": {},
     "output_type": "execute_result"
    }
   ],
   "source": [
    "goog.head()"
   ]
  },
  {
   "cell_type": "code",
   "execution_count": 15,
   "id": "cf04e002",
   "metadata": {
    "execution": {
     "iopub.execute_input": "2022-01-17T08:51:37.298781Z",
     "iopub.status.busy": "2022-01-17T08:51:37.297741Z",
     "iopub.status.idle": "2022-01-17T08:51:37.315097Z",
     "shell.execute_reply": "2022-01-17T08:51:37.315930Z"
    },
    "id": "zlLC9lIS8Trs",
    "papermill": {
     "duration": 0.066764,
     "end_time": "2022-01-17T08:51:37.316216",
     "exception": false,
     "start_time": "2022-01-17T08:51:37.249452",
     "status": "completed"
    },
    "tags": []
   },
   "outputs": [],
   "source": [
    "portfolio_val=pd.concat([goog['Position Values'],tsla['Position Values'],amzn['Position Values']],axis=1)"
   ]
  },
  {
   "cell_type": "code",
   "execution_count": 16,
   "id": "5e62ffe1",
   "metadata": {
    "execution": {
     "iopub.execute_input": "2022-01-17T08:51:37.418521Z",
     "iopub.status.busy": "2022-01-17T08:51:37.417388Z",
     "iopub.status.idle": "2022-01-17T08:51:37.424743Z",
     "shell.execute_reply": "2022-01-17T08:51:37.425363Z"
    },
    "id": "hpm0FtTb8gUm",
    "outputId": "98db8f5b-d5ca-4e8d-bdb9-cff2131e51df",
    "papermill": {
     "duration": 0.062287,
     "end_time": "2022-01-17T08:51:37.425575",
     "exception": false,
     "start_time": "2022-01-17T08:51:37.363288",
     "status": "completed"
    },
    "tags": []
   },
   "outputs": [
    {
     "data": {
      "text/html": [
       "<div>\n",
       "<style scoped>\n",
       "    .dataframe tbody tr th:only-of-type {\n",
       "        vertical-align: middle;\n",
       "    }\n",
       "\n",
       "    .dataframe tbody tr th {\n",
       "        vertical-align: top;\n",
       "    }\n",
       "\n",
       "    .dataframe thead th {\n",
       "        text-align: right;\n",
       "    }\n",
       "</style>\n",
       "<table border=\"1\" class=\"dataframe\">\n",
       "  <thead>\n",
       "    <tr style=\"text-align: right;\">\n",
       "      <th></th>\n",
       "      <th>Position Values</th>\n",
       "      <th>Position Values</th>\n",
       "      <th>Position Values</th>\n",
       "    </tr>\n",
       "    <tr>\n",
       "      <th>Date</th>\n",
       "      <th></th>\n",
       "      <th></th>\n",
       "      <th></th>\n",
       "    </tr>\n",
       "  </thead>\n",
       "  <tbody>\n",
       "    <tr>\n",
       "      <th>2018-03-21</th>\n",
       "      <td>586011.531712</td>\n",
       "      <td>2.254487e+06</td>\n",
       "      <td>3.534290e+06</td>\n",
       "    </tr>\n",
       "    <tr>\n",
       "      <th>2018-03-22</th>\n",
       "      <td>563556.924399</td>\n",
       "      <td>2.201567e+06</td>\n",
       "      <td>3.449925e+06</td>\n",
       "    </tr>\n",
       "    <tr>\n",
       "      <th>2018-03-23</th>\n",
       "      <td>548778.784515</td>\n",
       "      <td>2.147721e+06</td>\n",
       "      <td>3.341473e+06</td>\n",
       "    </tr>\n",
       "    <tr>\n",
       "      <th>2018-03-26</th>\n",
       "      <td>565775.525552</td>\n",
       "      <td>2.166524e+06</td>\n",
       "      <td>3.476200e+06</td>\n",
       "    </tr>\n",
       "    <tr>\n",
       "      <th>2018-03-27</th>\n",
       "      <td>539931.239480</td>\n",
       "      <td>1.988462e+06</td>\n",
       "      <td>3.344803e+06</td>\n",
       "    </tr>\n",
       "  </tbody>\n",
       "</table>\n",
       "</div>"
      ],
      "text/plain": [
       "            Position Values  Position Values  Position Values\n",
       "Date                                                         \n",
       "2018-03-21    586011.531712     2.254487e+06     3.534290e+06\n",
       "2018-03-22    563556.924399     2.201567e+06     3.449925e+06\n",
       "2018-03-23    548778.784515     2.147721e+06     3.341473e+06\n",
       "2018-03-26    565775.525552     2.166524e+06     3.476200e+06\n",
       "2018-03-27    539931.239480     1.988462e+06     3.344803e+06"
      ]
     },
     "execution_count": 16,
     "metadata": {},
     "output_type": "execute_result"
    }
   ],
   "source": [
    "portfolio_val.tail()"
   ]
  },
  {
   "cell_type": "code",
   "execution_count": 17,
   "id": "17d9880f",
   "metadata": {
    "execution": {
     "iopub.execute_input": "2022-01-17T08:51:37.522096Z",
     "iopub.status.busy": "2022-01-17T08:51:37.521312Z",
     "iopub.status.idle": "2022-01-17T08:51:37.525854Z",
     "shell.execute_reply": "2022-01-17T08:51:37.526563Z"
    },
    "id": "Gt-3fAiw8lcG",
    "papermill": {
     "duration": 0.054369,
     "end_time": "2022-01-17T08:51:37.526777",
     "exception": false,
     "start_time": "2022-01-17T08:51:37.472408",
     "status": "completed"
    },
    "tags": []
   },
   "outputs": [],
   "source": [
    "portfolio_val.columns=['goog Pos','tsla Pos','AMZN Pos']"
   ]
  },
  {
   "cell_type": "code",
   "execution_count": 18,
   "id": "487996cc",
   "metadata": {
    "execution": {
     "iopub.execute_input": "2022-01-17T08:51:37.631302Z",
     "iopub.status.busy": "2022-01-17T08:51:37.622965Z",
     "iopub.status.idle": "2022-01-17T08:51:37.634671Z",
     "shell.execute_reply": "2022-01-17T08:51:37.633995Z"
    },
    "id": "K7wY97lR9ZOn",
    "outputId": "041f5136-d0f0-457f-fc0e-a51a2b6ac54b",
    "papermill": {
     "duration": 0.061897,
     "end_time": "2022-01-17T08:51:37.634835",
     "exception": false,
     "start_time": "2022-01-17T08:51:37.572938",
     "status": "completed"
    },
    "tags": []
   },
   "outputs": [
    {
     "data": {
      "text/html": [
       "<div>\n",
       "<style scoped>\n",
       "    .dataframe tbody tr th:only-of-type {\n",
       "        vertical-align: middle;\n",
       "    }\n",
       "\n",
       "    .dataframe tbody tr th {\n",
       "        vertical-align: top;\n",
       "    }\n",
       "\n",
       "    .dataframe thead th {\n",
       "        text-align: right;\n",
       "    }\n",
       "</style>\n",
       "<table border=\"1\" class=\"dataframe\">\n",
       "  <thead>\n",
       "    <tr style=\"text-align: right;\">\n",
       "      <th></th>\n",
       "      <th>goog Pos</th>\n",
       "      <th>tsla Pos</th>\n",
       "      <th>AMZN Pos</th>\n",
       "    </tr>\n",
       "    <tr>\n",
       "      <th>Date</th>\n",
       "      <th></th>\n",
       "      <th></th>\n",
       "      <th></th>\n",
       "    </tr>\n",
       "  </thead>\n",
       "  <tbody>\n",
       "    <tr>\n",
       "      <th>2018-03-21</th>\n",
       "      <td>586011.531712</td>\n",
       "      <td>2.254487e+06</td>\n",
       "      <td>3.534290e+06</td>\n",
       "    </tr>\n",
       "    <tr>\n",
       "      <th>2018-03-22</th>\n",
       "      <td>563556.924399</td>\n",
       "      <td>2.201567e+06</td>\n",
       "      <td>3.449925e+06</td>\n",
       "    </tr>\n",
       "    <tr>\n",
       "      <th>2018-03-23</th>\n",
       "      <td>548778.784515</td>\n",
       "      <td>2.147721e+06</td>\n",
       "      <td>3.341473e+06</td>\n",
       "    </tr>\n",
       "    <tr>\n",
       "      <th>2018-03-26</th>\n",
       "      <td>565775.525552</td>\n",
       "      <td>2.166524e+06</td>\n",
       "      <td>3.476200e+06</td>\n",
       "    </tr>\n",
       "    <tr>\n",
       "      <th>2018-03-27</th>\n",
       "      <td>539931.239480</td>\n",
       "      <td>1.988462e+06</td>\n",
       "      <td>3.344803e+06</td>\n",
       "    </tr>\n",
       "  </tbody>\n",
       "</table>\n",
       "</div>"
      ],
      "text/plain": [
       "                 goog Pos      tsla Pos      AMZN Pos\n",
       "Date                                                 \n",
       "2018-03-21  586011.531712  2.254487e+06  3.534290e+06\n",
       "2018-03-22  563556.924399  2.201567e+06  3.449925e+06\n",
       "2018-03-23  548778.784515  2.147721e+06  3.341473e+06\n",
       "2018-03-26  565775.525552  2.166524e+06  3.476200e+06\n",
       "2018-03-27  539931.239480  1.988462e+06  3.344803e+06"
      ]
     },
     "execution_count": 18,
     "metadata": {},
     "output_type": "execute_result"
    }
   ],
   "source": [
    "portfolio_val.tail()"
   ]
  },
  {
   "cell_type": "code",
   "execution_count": 19,
   "id": "80967a85",
   "metadata": {
    "execution": {
     "iopub.execute_input": "2022-01-17T08:51:37.733463Z",
     "iopub.status.busy": "2022-01-17T08:51:37.732776Z",
     "iopub.status.idle": "2022-01-17T08:51:37.737420Z",
     "shell.execute_reply": "2022-01-17T08:51:37.737868Z"
    },
    "id": "uaCSWSTc-x9F",
    "papermill": {
     "duration": 0.057058,
     "end_time": "2022-01-17T08:51:37.738082",
     "exception": false,
     "start_time": "2022-01-17T08:51:37.681024",
     "status": "completed"
    },
    "tags": []
   },
   "outputs": [],
   "source": [
    "portfolio_val['Total Pos']=portfolio_val.sum(axis=1)"
   ]
  },
  {
   "cell_type": "code",
   "execution_count": 20,
   "id": "3d9d2068",
   "metadata": {
    "execution": {
     "iopub.execute_input": "2022-01-17T08:51:37.836587Z",
     "iopub.status.busy": "2022-01-17T08:51:37.835857Z",
     "iopub.status.idle": "2022-01-17T08:51:37.850183Z",
     "shell.execute_reply": "2022-01-17T08:51:37.850867Z"
    },
    "id": "jwoL0_LW-5UA",
    "outputId": "c1bf0073-9d5c-43bb-f83a-f8dcaa285b86",
    "papermill": {
     "duration": 0.065961,
     "end_time": "2022-01-17T08:51:37.851103",
     "exception": false,
     "start_time": "2022-01-17T08:51:37.785142",
     "status": "completed"
    },
    "tags": []
   },
   "outputs": [
    {
     "data": {
      "text/html": [
       "<div>\n",
       "<style scoped>\n",
       "    .dataframe tbody tr th:only-of-type {\n",
       "        vertical-align: middle;\n",
       "    }\n",
       "\n",
       "    .dataframe tbody tr th {\n",
       "        vertical-align: top;\n",
       "    }\n",
       "\n",
       "    .dataframe thead th {\n",
       "        text-align: right;\n",
       "    }\n",
       "</style>\n",
       "<table border=\"1\" class=\"dataframe\">\n",
       "  <thead>\n",
       "    <tr style=\"text-align: right;\">\n",
       "      <th></th>\n",
       "      <th>goog Pos</th>\n",
       "      <th>tsla Pos</th>\n",
       "      <th>AMZN Pos</th>\n",
       "      <th>Total Pos</th>\n",
       "    </tr>\n",
       "    <tr>\n",
       "      <th>Date</th>\n",
       "      <th></th>\n",
       "      <th></th>\n",
       "      <th></th>\n",
       "      <th></th>\n",
       "    </tr>\n",
       "  </thead>\n",
       "  <tbody>\n",
       "    <tr>\n",
       "      <th>2018-03-21</th>\n",
       "      <td>586011.531712</td>\n",
       "      <td>2.254487e+06</td>\n",
       "      <td>3.534290e+06</td>\n",
       "      <td>6.374789e+06</td>\n",
       "    </tr>\n",
       "    <tr>\n",
       "      <th>2018-03-22</th>\n",
       "      <td>563556.924399</td>\n",
       "      <td>2.201567e+06</td>\n",
       "      <td>3.449925e+06</td>\n",
       "      <td>6.215048e+06</td>\n",
       "    </tr>\n",
       "    <tr>\n",
       "      <th>2018-03-23</th>\n",
       "      <td>548778.784515</td>\n",
       "      <td>2.147721e+06</td>\n",
       "      <td>3.341473e+06</td>\n",
       "      <td>6.037973e+06</td>\n",
       "    </tr>\n",
       "    <tr>\n",
       "      <th>2018-03-26</th>\n",
       "      <td>565775.525552</td>\n",
       "      <td>2.166524e+06</td>\n",
       "      <td>3.476200e+06</td>\n",
       "      <td>6.208499e+06</td>\n",
       "    </tr>\n",
       "    <tr>\n",
       "      <th>2018-03-27</th>\n",
       "      <td>539931.239480</td>\n",
       "      <td>1.988462e+06</td>\n",
       "      <td>3.344803e+06</td>\n",
       "      <td>5.873195e+06</td>\n",
       "    </tr>\n",
       "  </tbody>\n",
       "</table>\n",
       "</div>"
      ],
      "text/plain": [
       "                 goog Pos      tsla Pos      AMZN Pos     Total Pos\n",
       "Date                                                               \n",
       "2018-03-21  586011.531712  2.254487e+06  3.534290e+06  6.374789e+06\n",
       "2018-03-22  563556.924399  2.201567e+06  3.449925e+06  6.215048e+06\n",
       "2018-03-23  548778.784515  2.147721e+06  3.341473e+06  6.037973e+06\n",
       "2018-03-26  565775.525552  2.166524e+06  3.476200e+06  6.208499e+06\n",
       "2018-03-27  539931.239480  1.988462e+06  3.344803e+06  5.873195e+06"
      ]
     },
     "execution_count": 20,
     "metadata": {},
     "output_type": "execute_result"
    }
   ],
   "source": [
    "portfolio_val.tail()"
   ]
  },
  {
   "cell_type": "code",
   "execution_count": 21,
   "id": "6de7445e",
   "metadata": {
    "execution": {
     "iopub.execute_input": "2022-01-17T08:51:37.955953Z",
     "iopub.status.busy": "2022-01-17T08:51:37.955231Z",
     "iopub.status.idle": "2022-01-17T08:51:37.960742Z",
     "shell.execute_reply": "2022-01-17T08:51:37.961439Z"
    },
    "id": "mEZ0aq5T_BcU",
    "outputId": "b9af3f94-a01f-45e6-ab60-b7acbec66885",
    "papermill": {
     "duration": 0.058367,
     "end_time": "2022-01-17T08:51:37.961652",
     "exception": false,
     "start_time": "2022-01-17T08:51:37.903285",
     "status": "completed"
    },
    "tags": []
   },
   "outputs": [
    {
     "data": {
      "text/plain": [
       "600000.0"
      ]
     },
     "execution_count": 21,
     "metadata": {},
     "output_type": "execute_result"
    }
   ],
   "source": [
    "portfolio_val['Total Pos'][0]"
   ]
  },
  {
   "cell_type": "code",
   "execution_count": 22,
   "id": "9d908050",
   "metadata": {
    "execution": {
     "iopub.execute_input": "2022-01-17T08:51:38.060680Z",
     "iopub.status.busy": "2022-01-17T08:51:38.059960Z",
     "iopub.status.idle": "2022-01-17T08:51:38.067392Z",
     "shell.execute_reply": "2022-01-17T08:51:38.066791Z"
    },
    "id": "9H8Sj3g3_Dqp",
    "papermill": {
     "duration": 0.05827,
     "end_time": "2022-01-17T08:51:38.067566",
     "exception": false,
     "start_time": "2022-01-17T08:51:38.009296",
     "status": "completed"
    },
    "tags": []
   },
   "outputs": [],
   "source": [
    "import matplotlib.pyplot as plt\n",
    "%matplotlib inline"
   ]
  },
  {
   "cell_type": "code",
   "execution_count": 23,
   "id": "adcc13b0",
   "metadata": {
    "execution": {
     "iopub.execute_input": "2022-01-17T08:51:38.167823Z",
     "iopub.status.busy": "2022-01-17T08:51:38.167136Z",
     "iopub.status.idle": "2022-01-17T08:51:38.572867Z",
     "shell.execute_reply": "2022-01-17T08:51:38.572324Z"
    },
    "id": "ePD8EkKi_Ov3",
    "outputId": "d1f481e7-fa46-43f4-80e8-bbca53123b2e",
    "papermill": {
     "duration": 0.456979,
     "end_time": "2022-01-17T08:51:38.573056",
     "exception": false,
     "start_time": "2022-01-17T08:51:38.116077",
     "status": "completed"
    },
    "tags": []
   },
   "outputs": [
    {
     "data": {
      "text/plain": [
       "Text(0.5, 1.0, 'Total Portfolio Value')"
      ]
     },
     "execution_count": 23,
     "metadata": {},
     "output_type": "execute_result"
    },
    {
     "data": {
      "image/png": "[encoded data removed]",
      "text/plain": [
       "<Figure size 864x720 with 1 Axes>"
      ]
     },
     "metadata": {
      "needs_background": "light"
     },
     "output_type": "display_data"
    }
   ],
   "source": [
    "portfolio_val['Total Pos'].plot(figsize=(12,10))\n",
    "plt.title('Total Portfolio Value')"
   ]
  },
  {
   "cell_type": "code",
   "execution_count": 24,
   "id": "3cca7a67",
   "metadata": {
    "execution": {
     "iopub.execute_input": "2022-01-17T08:51:38.679617Z",
     "iopub.status.busy": "2022-01-17T08:51:38.678774Z",
     "iopub.status.idle": "2022-01-17T08:51:39.055566Z",
     "shell.execute_reply": "2022-01-17T08:51:39.054869Z"
    },
    "id": "RKxdSbnE_alp",
    "outputId": "a0f6042f-bff9-4d2d-e465-d9c014cc8449",
    "papermill": {
     "duration": 0.430735,
     "end_time": "2022-01-17T08:51:39.055726",
     "exception": false,
     "start_time": "2022-01-17T08:51:38.624991",
     "status": "completed"
    },
    "tags": []
   },
   "outputs": [
    {
     "data": {
      "text/plain": [
       "<AxesSubplot:xlabel='Date'>"
      ]
     },
     "execution_count": 24,
     "metadata": {},
     "output_type": "execute_result"
    },
    {
     "data": {
      "image/png": "[encoded data removed]",
      "text/plain": [
       "<Figure size 432x288 with 1 Axes>"
      ]
     },
     "metadata": {
      "needs_background": "light"
     },
     "output_type": "display_data"
    }
   ],
   "source": [
    "portfolio_val.drop('Total Pos',axis=1).plot(kind='line')"
   ]
  },
  {
   "cell_type": "markdown",
   "id": "0425e574",
   "metadata": {
    "id": "tc8iaIv4xNvA",
    "papermill": {
     "duration": 0.050636,
     "end_time": "2022-01-17T08:51:39.157964",
     "exception": false,
     "start_time": "2022-01-17T08:51:39.107328",
     "status": "completed"
    },
    "tags": []
   },
   "source": [
    "q3"
   ]
  },
  {
   "cell_type": "code",
   "execution_count": 25,
   "id": "b5489805",
   "metadata": {
    "execution": {
     "iopub.execute_input": "2022-01-17T08:51:39.272113Z",
     "iopub.status.busy": "2022-01-17T08:51:39.271073Z",
     "iopub.status.idle": "2022-01-17T08:51:39.279293Z",
     "shell.execute_reply": "2022-01-17T08:51:39.279765Z"
    },
    "id": "p195FvvSxOkn",
    "outputId": "839c353d-f910-4e11-a3d0-ecaf3db5e9a3",
    "papermill": {
     "duration": 0.071123,
     "end_time": "2022-01-17T08:51:39.279980",
     "exception": false,
     "start_time": "2022-01-17T08:51:39.208857",
     "status": "completed"
    },
    "tags": []
   },
   "outputs": [
    {
     "data": {
      "text/plain": [
       "Date\n",
       "2012-01-03         NaN\n",
       "2012-01-04   -0.010052\n",
       "2012-01-05   -0.006699\n",
       "2012-01-06    0.016400\n",
       "2012-01-09   -0.011051\n",
       "                ...   \n",
       "2018-03-21    0.004496\n",
       "2018-03-22   -0.025058\n",
       "2018-03-23   -0.028491\n",
       "2018-03-26    0.028242\n",
       "2018-03-27   -0.054007\n",
       "Name: Total Pos, Length: 1567, dtype: float64"
      ]
     },
     "execution_count": 25,
     "metadata": {},
     "output_type": "execute_result"
    }
   ],
   "source": [
    "portfolio_val['Total Pos'].pct_change(1)"
   ]
  },
  {
   "cell_type": "code",
   "execution_count": 26,
   "id": "434c22bc",
   "metadata": {
    "execution": {
     "iopub.execute_input": "2022-01-17T08:51:39.387142Z",
     "iopub.status.busy": "2022-01-17T08:51:39.386459Z",
     "iopub.status.idle": "2022-01-17T08:51:39.405432Z",
     "shell.execute_reply": "2022-01-17T08:51:39.405963Z"
    },
    "id": "OZhspoUHxauC",
    "outputId": "589b9316-5a32-434f-a2e5-02d6302f1945",
    "papermill": {
     "duration": 0.07438,
     "end_time": "2022-01-17T08:51:39.406189",
     "exception": false,
     "start_time": "2022-01-17T08:51:39.331809",
     "status": "completed"
    },
    "tags": []
   },
   "outputs": [
    {
     "data": {
      "text/html": [
       "<div>\n",
       "<style scoped>\n",
       "    .dataframe tbody tr th:only-of-type {\n",
       "        vertical-align: middle;\n",
       "    }\n",
       "\n",
       "    .dataframe tbody tr th {\n",
       "        vertical-align: top;\n",
       "    }\n",
       "\n",
       "    .dataframe thead th {\n",
       "        text-align: right;\n",
       "    }\n",
       "</style>\n",
       "<table border=\"1\" class=\"dataframe\">\n",
       "  <thead>\n",
       "    <tr style=\"text-align: right;\">\n",
       "      <th></th>\n",
       "      <th>goog Pos</th>\n",
       "      <th>tsla Pos</th>\n",
       "      <th>AMZN Pos</th>\n",
       "      <th>Total Pos</th>\n",
       "      <th>Daily Returns</th>\n",
       "    </tr>\n",
       "    <tr>\n",
       "      <th>Date</th>\n",
       "      <th></th>\n",
       "      <th></th>\n",
       "      <th></th>\n",
       "      <th></th>\n",
       "      <th></th>\n",
       "    </tr>\n",
       "  </thead>\n",
       "  <tbody>\n",
       "    <tr>\n",
       "      <th>2012-01-03</th>\n",
       "      <td>NaN</td>\n",
       "      <td>2.000000e+05</td>\n",
       "      <td>4.000000e+05</td>\n",
       "      <td>6.000000e+05</td>\n",
       "      <td>NaN</td>\n",
       "    </tr>\n",
       "    <tr>\n",
       "      <th>2012-01-04</th>\n",
       "      <td>NaN</td>\n",
       "      <td>1.973647e+05</td>\n",
       "      <td>3.966039e+05</td>\n",
       "      <td>5.939686e+05</td>\n",
       "      <td>-0.010052</td>\n",
       "    </tr>\n",
       "    <tr>\n",
       "      <th>2012-01-05</th>\n",
       "      <td>NaN</td>\n",
       "      <td>1.931624e+05</td>\n",
       "      <td>3.968273e+05</td>\n",
       "      <td>5.899897e+05</td>\n",
       "      <td>-0.006699</td>\n",
       "    </tr>\n",
       "    <tr>\n",
       "      <th>2012-01-06</th>\n",
       "      <td>NaN</td>\n",
       "      <td>1.916667e+05</td>\n",
       "      <td>4.079987e+05</td>\n",
       "      <td>5.996653e+05</td>\n",
       "      <td>0.016400</td>\n",
       "    </tr>\n",
       "    <tr>\n",
       "      <th>2012-01-09</th>\n",
       "      <td>NaN</td>\n",
       "      <td>1.940883e+05</td>\n",
       "      <td>3.989499e+05</td>\n",
       "      <td>5.930382e+05</td>\n",
       "      <td>-0.011051</td>\n",
       "    </tr>\n",
       "    <tr>\n",
       "      <th>...</th>\n",
       "      <td>...</td>\n",
       "      <td>...</td>\n",
       "      <td>...</td>\n",
       "      <td>...</td>\n",
       "      <td>...</td>\n",
       "    </tr>\n",
       "    <tr>\n",
       "      <th>2018-03-21</th>\n",
       "      <td>586011.531712</td>\n",
       "      <td>2.254487e+06</td>\n",
       "      <td>3.534290e+06</td>\n",
       "      <td>6.374789e+06</td>\n",
       "      <td>0.004496</td>\n",
       "    </tr>\n",
       "    <tr>\n",
       "      <th>2018-03-22</th>\n",
       "      <td>563556.924399</td>\n",
       "      <td>2.201567e+06</td>\n",
       "      <td>3.449925e+06</td>\n",
       "      <td>6.215048e+06</td>\n",
       "      <td>-0.025058</td>\n",
       "    </tr>\n",
       "    <tr>\n",
       "      <th>2018-03-23</th>\n",
       "      <td>548778.784515</td>\n",
       "      <td>2.147721e+06</td>\n",
       "      <td>3.341473e+06</td>\n",
       "      <td>6.037973e+06</td>\n",
       "      <td>-0.028491</td>\n",
       "    </tr>\n",
       "    <tr>\n",
       "      <th>2018-03-26</th>\n",
       "      <td>565775.525552</td>\n",
       "      <td>2.166524e+06</td>\n",
       "      <td>3.476200e+06</td>\n",
       "      <td>6.208499e+06</td>\n",
       "      <td>0.028242</td>\n",
       "    </tr>\n",
       "    <tr>\n",
       "      <th>2018-03-27</th>\n",
       "      <td>539931.239480</td>\n",
       "      <td>1.988462e+06</td>\n",
       "      <td>3.344803e+06</td>\n",
       "      <td>5.873195e+06</td>\n",
       "      <td>-0.054007</td>\n",
       "    </tr>\n",
       "  </tbody>\n",
       "</table>\n",
       "<p>1567 rows × 5 columns</p>\n",
       "</div>"
      ],
      "text/plain": [
       "                 goog Pos      tsla Pos      AMZN Pos     Total Pos  \\\n",
       "Date                                                                  \n",
       "2012-01-03            NaN  2.000000e+05  4.000000e+05  6.000000e+05   \n",
       "2012-01-04            NaN  1.973647e+05  3.966039e+05  5.939686e+05   \n",
       "2012-01-05            NaN  1.931624e+05  3.968273e+05  5.899897e+05   \n",
       "2012-01-06            NaN  1.916667e+05  4.079987e+05  5.996653e+05   \n",
       "2012-01-09            NaN  1.940883e+05  3.989499e+05  5.930382e+05   \n",
       "...                   ...           ...           ...           ...   \n",
       "2018-03-21  586011.531712  2.254487e+06  3.534290e+06  6.374789e+06   \n",
       "2018-03-22  563556.924399  2.201567e+06  3.449925e+06  6.215048e+06   \n",
       "2018-03-23  548778.784515  2.147721e+06  3.341473e+06  6.037973e+06   \n",
       "2018-03-26  565775.525552  2.166524e+06  3.476200e+06  6.208499e+06   \n",
       "2018-03-27  539931.239480  1.988462e+06  3.344803e+06  5.873195e+06   \n",
       "\n",
       "            Daily Returns  \n",
       "Date                       \n",
       "2012-01-03            NaN  \n",
       "2012-01-04      -0.010052  \n",
       "2012-01-05      -0.006699  \n",
       "2012-01-06       0.016400  \n",
       "2012-01-09      -0.011051  \n",
       "...                   ...  \n",
       "2018-03-21       0.004496  \n",
       "2018-03-22      -0.025058  \n",
       "2018-03-23      -0.028491  \n",
       "2018-03-26       0.028242  \n",
       "2018-03-27      -0.054007  \n",
       "\n",
       "[1567 rows x 5 columns]"
      ]
     },
     "execution_count": 26,
     "metadata": {},
     "output_type": "execute_result"
    }
   ],
   "source": [
    "portfolio_val['Daily Returns']=portfolio_val['Total Pos'].pct_change(1)\n",
    "portfolio_val"
   ]
  },
  {
   "cell_type": "code",
   "execution_count": 27,
   "id": "6feb534c",
   "metadata": {
    "execution": {
     "iopub.execute_input": "2022-01-17T08:51:39.518162Z",
     "iopub.status.busy": "2022-01-17T08:51:39.517473Z",
     "iopub.status.idle": "2022-01-17T08:51:39.521213Z",
     "shell.execute_reply": "2022-01-17T08:51:39.520556Z"
    },
    "id": "x3gWF9yixlja",
    "outputId": "5cfae620-fe82-40fb-d161-ce92a1ccfd98",
    "papermill": {
     "duration": 0.062625,
     "end_time": "2022-01-17T08:51:39.521378",
     "exception": false,
     "start_time": "2022-01-17T08:51:39.458753",
     "status": "completed"
    },
    "tags": []
   },
   "outputs": [
    {
     "data": {
      "text/plain": [
       "0.001849200435446345"
      ]
     },
     "execution_count": 27,
     "metadata": {},
     "output_type": "execute_result"
    }
   ],
   "source": [
    "portfolio_val['Daily Returns'].mean()"
   ]
  },
  {
   "cell_type": "code",
   "execution_count": 28,
   "id": "b5e8df0d",
   "metadata": {
    "execution": {
     "iopub.execute_input": "2022-01-17T08:51:39.633529Z",
     "iopub.status.busy": "2022-01-17T08:51:39.632727Z",
     "iopub.status.idle": "2022-01-17T08:51:39.635538Z",
     "shell.execute_reply": "2022-01-17T08:51:39.636044Z"
    },
    "id": "LK3SD7Rx2Ti2",
    "outputId": "c83b5873-74b0-401c-8c99-88bfcf6ea25b",
    "papermill": {
     "duration": 0.062368,
     "end_time": "2022-01-17T08:51:39.636240",
     "exception": false,
     "start_time": "2022-01-17T08:51:39.573872",
     "status": "completed"
    },
    "tags": []
   },
   "outputs": [
    {
     "data": {
      "text/plain": [
       "0.029218868638935264"
      ]
     },
     "execution_count": 28,
     "metadata": {},
     "output_type": "execute_result"
    }
   ],
   "source": [
    "portfolio_val['Daily Returns'].std()"
   ]
  },
  {
   "cell_type": "code",
   "execution_count": 29,
   "id": "4b631eb2",
   "metadata": {
    "execution": {
     "iopub.execute_input": "2022-01-17T08:51:39.746688Z",
     "iopub.status.busy": "2022-01-17T08:51:39.745941Z",
     "iopub.status.idle": "2022-01-17T08:51:40.753785Z",
     "shell.execute_reply": "2022-01-17T08:51:40.753123Z"
    },
    "id": "P-nOJ5c12ptD",
    "outputId": "312598e1-15c6-4a3c-b3be-abd22c13dec6",
    "papermill": {
     "duration": 1.064368,
     "end_time": "2022-01-17T08:51:40.753968",
     "exception": false,
     "start_time": "2022-01-17T08:51:39.689600",
     "status": "completed"
    },
    "tags": []
   },
   "outputs": [
    {
     "data": {
      "text/plain": [
       "<AxesSubplot:ylabel='Density'>"
      ]
     },
     "execution_count": 29,
     "metadata": {},
     "output_type": "execute_result"
    },
    {
     "data": {
      "image/png": "[encoded data removed]",
      "text/plain": [
       "<Figure size 432x288 with 1 Axes>"
      ]
     },
     "metadata": {
      "needs_background": "light"
     },
     "output_type": "display_data"
    }
   ],
   "source": [
    "portfolio_val['Daily Returns'].plot(kind='kde')"
   ]
  },
  {
   "cell_type": "code",
   "execution_count": 30,
   "id": "628f0d30",
   "metadata": {
    "execution": {
     "iopub.execute_input": "2022-01-17T08:51:40.865071Z",
     "iopub.status.busy": "2022-01-17T08:51:40.864378Z",
     "iopub.status.idle": "2022-01-17T08:51:40.870246Z",
     "shell.execute_reply": "2022-01-17T08:51:40.870830Z"
    },
    "id": "h0Pwsuw_2tuA",
    "outputId": "f54957ec-f73b-4bb7-9c11-002d60bff9b3",
    "papermill": {
     "duration": 0.0631,
     "end_time": "2022-01-17T08:51:40.871014",
     "exception": false,
     "start_time": "2022-01-17T08:51:40.807914",
     "status": "completed"
    },
    "tags": []
   },
   "outputs": [
    {
     "data": {
      "text/plain": [
       "0.06328788627298917"
      ]
     },
     "execution_count": 30,
     "metadata": {},
     "output_type": "execute_result"
    }
   ],
   "source": [
    "SR=portfolio_val['Daily Returns'].mean()/portfolio_val['Daily Returns'].std()\n",
    "SR"
   ]
  },
  {
   "cell_type": "code",
   "execution_count": 31,
   "id": "7699d2c2",
   "metadata": {
    "execution": {
     "iopub.execute_input": "2022-01-17T08:51:40.983085Z",
     "iopub.status.busy": "2022-01-17T08:51:40.982431Z",
     "iopub.status.idle": "2022-01-17T08:51:40.987868Z",
     "shell.execute_reply": "2022-01-17T08:51:40.988370Z"
    },
    "id": "sJJpZOHn22CD",
    "outputId": "afdb4c87-f77f-40ad-a7f1-dd6e773de823",
    "papermill": {
     "duration": 0.062838,
     "end_time": "2022-01-17T08:51:40.988542",
     "exception": false,
     "start_time": "2022-01-17T08:51:40.925704",
     "status": "completed"
    },
    "tags": []
   },
   "outputs": [
    {
     "data": {
      "text/plain": [
       "1.004664048487607"
      ]
     },
     "execution_count": 31,
     "metadata": {},
     "output_type": "execute_result"
    }
   ],
   "source": [
    "ASR=(252**0.5)*SR\n",
    "ASR"
   ]
  },
  {
   "cell_type": "code",
   "execution_count": 32,
   "id": "afef75d8",
   "metadata": {
    "execution": {
     "iopub.execute_input": "2022-01-17T08:51:41.109674Z",
     "iopub.status.busy": "2022-01-17T08:51:41.109010Z",
     "iopub.status.idle": "2022-01-17T08:51:41.469206Z",
     "shell.execute_reply": "2022-01-17T08:51:41.469964Z"
    },
    "id": "SR9CAXaX26Bq",
    "outputId": "cee84c3e-e3a7-479d-91f1-4be0d27a3711",
    "papermill": {
     "duration": 0.425748,
     "end_time": "2022-01-17T08:51:41.470214",
     "exception": false,
     "start_time": "2022-01-17T08:51:41.044466",
     "status": "completed"
    },
    "tags": []
   },
   "outputs": [
    {
     "data": {
      "text/plain": [
       "<AxesSubplot:ylabel='Density'>"
      ]
     },
     "execution_count": 32,
     "metadata": {},
     "output_type": "execute_result"
    },
    {
     "data": {
      "image/png": "[encoded data removed]",
      "text/plain": [
       "<Figure size 432x288 with 1 Axes>"
      ]
     },
     "metadata": {
      "needs_background": "light"
     },
     "output_type": "display_data"
    }
   ],
   "source": [
    "goog['Adj. Close'].pct_change(1).plot(kind='kde')\n",
    "tsla['Adj. Close'].pct_change(1).plot(kind='kde')\n",
    "amzn['Adj. Close'].pct_change(1).plot(kind='kde')\n"
   ]
  },
  {
   "cell_type": "code",
   "execution_count": 33,
   "id": "7ca70aa7",
   "metadata": {
    "execution": {
     "iopub.execute_input": "2022-01-17T08:51:41.595376Z",
     "iopub.status.busy": "2022-01-17T08:51:41.594664Z",
     "iopub.status.idle": "2022-01-17T08:51:41.597224Z",
     "shell.execute_reply": "2022-01-17T08:51:41.597815Z"
    },
    "id": "f5w68UAR3VW_",
    "outputId": "2ac7fa58-f744-4858-fe46-b13f82ac6354",
    "papermill": {
     "duration": 0.066519,
     "end_time": "2022-01-17T08:51:41.598038",
     "exception": false,
     "start_time": "2022-01-17T08:51:41.531519",
     "status": "completed"
    },
    "tags": []
   },
   "outputs": [
    {
     "data": {
      "text/plain": [
       "12.699606293110037"
      ]
     },
     "execution_count": 33,
     "metadata": {},
     "output_type": "execute_result"
    }
   ],
   "source": [
    "import numpy as np                              \n",
    "np.sqrt(252)*(np.mean(0.001-0.0002)/0.001)"
   ]
  },
  {
   "cell_type": "markdown",
   "id": "67b8b359",
   "metadata": {
    "id": "n7kB6MGlnv7L",
    "papermill": {
     "duration": 0.056331,
     "end_time": "2022-01-17T08:51:41.711102",
     "exception": false,
     "start_time": "2022-01-17T08:51:41.654771",
     "status": "completed"
    },
    "tags": []
   },
   "source": [
    "q4"
   ]
  },
  {
   "cell_type": "code",
   "execution_count": 34,
   "id": "bbb9761f",
   "metadata": {
    "execution": {
     "iopub.execute_input": "2022-01-17T08:51:41.829859Z",
     "iopub.status.busy": "2022-01-17T08:51:41.829165Z",
     "iopub.status.idle": "2022-01-17T08:51:41.830484Z",
     "shell.execute_reply": "2022-01-17T08:51:41.831130Z"
    },
    "id": "qWQQOCJAnw1V",
    "papermill": {
     "duration": 0.063984,
     "end_time": "2022-01-17T08:51:41.831325",
     "exception": false,
     "start_time": "2022-01-17T08:51:41.767341",
     "status": "completed"
    },
    "tags": []
   },
   "outputs": [],
   "source": [
    "stocks = ['goog','AMZN']\n"
   ]
  },
  {
   "cell_type": "code",
   "execution_count": 35,
   "id": "04ff46e0",
   "metadata": {
    "execution": {
     "iopub.execute_input": "2022-01-17T08:51:41.953079Z",
     "iopub.status.busy": "2022-01-17T08:51:41.952247Z",
     "iopub.status.idle": "2022-01-17T08:51:42.003447Z",
     "shell.execute_reply": "2022-01-17T08:51:42.004056Z"
    },
    "id": "faBJb60XoL6R",
    "papermill": {
     "duration": 0.115833,
     "end_time": "2022-01-17T08:51:42.004275",
     "exception": false,
     "start_time": "2022-01-17T08:51:41.888442",
     "status": "completed"
    },
    "tags": []
   },
   "outputs": [],
   "source": [
    "from pandas_datareader import data as dr"
   ]
  },
  {
   "cell_type": "code",
   "execution_count": 36,
   "id": "0b16a821",
   "metadata": {
    "execution": {
     "iopub.execute_input": "2022-01-17T08:51:42.124526Z",
     "iopub.status.busy": "2022-01-17T08:51:42.123700Z",
     "iopub.status.idle": "2022-01-17T08:51:42.127805Z",
     "shell.execute_reply": "2022-01-17T08:51:42.128478Z"
    },
    "id": "2ItXYJkgoueG",
    "papermill": {
     "duration": 0.065288,
     "end_time": "2022-01-17T08:51:42.128687",
     "exception": false,
     "start_time": "2022-01-17T08:51:42.063399",
     "status": "completed"
    },
    "tags": []
   },
   "outputs": [],
   "source": [
    "import numpy as np  \n",
    "from pandas_datareader import data as dr \n",
    "import pandas as pd\n",
    "import matplotlib.pyplot as plt"
   ]
  },
  {
   "cell_type": "code",
   "execution_count": 37,
   "id": "772412b2",
   "metadata": {
    "execution": {
     "iopub.execute_input": "2022-01-17T08:51:42.250624Z",
     "iopub.status.busy": "2022-01-17T08:51:42.249756Z",
     "iopub.status.idle": "2022-01-17T08:51:51.904615Z",
     "shell.execute_reply": "2022-01-17T08:51:51.903677Z"
    },
    "id": "2bMx2Z5Go1eH",
    "outputId": "6ddb7592-e97c-407c-902d-c7d8f721b253",
    "papermill": {
     "duration": 9.71766,
     "end_time": "2022-01-17T08:51:51.904840",
     "exception": false,
     "start_time": "2022-01-17T08:51:42.187180",
     "status": "completed"
    },
    "tags": []
   },
   "outputs": [
    {
     "name": "stdout",
     "output_type": "stream",
     "text": [
      "Requirement already satisfied: pandas-datareader in /opt/conda/lib/python3.7/site-packages (0.10.0)\r\n",
      "Requirement already satisfied: requests>=2.19.0 in /opt/conda/lib/python3.7/site-packages (from pandas-datareader) (2.26.0)\r\n",
      "Requirement already satisfied: lxml in /opt/conda/lib/python3.7/site-packages (from pandas-datareader) (4.7.1)\r\n",
      "Requirement already satisfied: pandas>=0.23 in /opt/conda/lib/python3.7/site-packages (from pandas-datareader) (1.3.4)\r\n",
      "Requirement already satisfied: python-dateutil>=2.7.3 in /opt/conda/lib/python3.7/site-packages (from pandas>=0.23->pandas-datareader) (2.8.0)\r\n",
      "Requirement already satisfied: pytz>=2017.3 in /opt/conda/lib/python3.7/site-packages (from pandas>=0.23->pandas-datareader) (2021.3)\r\n",
      "Requirement already satisfied: numpy>=1.17.3 in /opt/conda/lib/python3.7/site-packages (from pandas>=0.23->pandas-datareader) (1.19.5)\r\n",
      "Requirement already satisfied: idna<4,>=2.5 in /opt/conda/lib/python3.7/site-packages (from requests>=2.19.0->pandas-datareader) (3.1)\r\n",
      "Requirement already satisfied: urllib3<1.27,>=1.21.1 in /opt/conda/lib/python3.7/site-packages (from requests>=2.19.0->pandas-datareader) (1.26.7)\r\n",
      "Requirement already satisfied: certifi>=2017.4.17 in /opt/conda/lib/python3.7/site-packages (from requests>=2.19.0->pandas-datareader) (2021.10.8)\r\n",
      "Requirement already satisfied: charset-normalizer~=2.0.0 in /opt/conda/lib/python3.7/site-packages (from requests>=2.19.0->pandas-datareader) (2.0.8)\r\n",
      "Requirement already satisfied: six>=1.5 in /opt/conda/lib/python3.7/site-packages (from python-dateutil>=2.7.3->pandas>=0.23->pandas-datareader) (1.16.0)\r\n",
      "\u001b[33mWARNING: Running pip as the 'root' user can result in broken permissions and conflicting behaviour with the system package manager. It is recommended to use a virtual environment instead: https://pip.pypa.io/warnings/venv\u001b[0m\r\n",
      "Note: you may need to restart the kernel to use updated packages.\n"
     ]
    }
   ],
   "source": [
    "pip install --upgrade pandas-datareader"
   ]
  },
  {
   "cell_type": "code",
   "execution_count": 38,
   "id": "837a4ecc",
   "metadata": {
    "execution": {
     "iopub.execute_input": "2022-01-17T08:51:52.037025Z",
     "iopub.status.busy": "2022-01-17T08:51:52.036323Z",
     "iopub.status.idle": "2022-01-17T08:51:54.601814Z",
     "shell.execute_reply": "2022-01-17T08:51:54.601255Z"
    },
    "id": "rkW0VSRNoFPH",
    "papermill": {
     "duration": 2.637168,
     "end_time": "2022-01-17T08:51:54.601997",
     "exception": false,
     "start_time": "2022-01-17T08:51:51.964829",
     "status": "completed"
    },
    "tags": []
   },
   "outputs": [],
   "source": [
    "stock_data = pd.DataFrame()\n",
    "for s in stocks:\n",
    "    stock_data[s] = dr.DataReader(s, data_source = 'yahoo', start = '2012-01-01',end='2021-01-01')['Adj Close']"
   ]
  },
  {
   "cell_type": "code",
   "execution_count": 39,
   "id": "75e59d62",
   "metadata": {
    "execution": {
     "iopub.execute_input": "2022-01-17T08:51:54.722441Z",
     "iopub.status.busy": "2022-01-17T08:51:54.721796Z",
     "iopub.status.idle": "2022-01-17T08:51:54.732603Z",
     "shell.execute_reply": "2022-01-17T08:51:54.733217Z"
    },
    "id": "lS70pHwspsXp",
    "outputId": "4f6214b8-1b42-4a37-f9d6-de72bd675ad5",
    "papermill": {
     "duration": 0.072878,
     "end_time": "2022-01-17T08:51:54.733383",
     "exception": false,
     "start_time": "2022-01-17T08:51:54.660505",
     "status": "completed"
    },
    "tags": []
   },
   "outputs": [
    {
     "data": {
      "text/html": [
       "<div>\n",
       "<style scoped>\n",
       "    .dataframe tbody tr th:only-of-type {\n",
       "        vertical-align: middle;\n",
       "    }\n",
       "\n",
       "    .dataframe tbody tr th {\n",
       "        vertical-align: top;\n",
       "    }\n",
       "\n",
       "    .dataframe thead th {\n",
       "        text-align: right;\n",
       "    }\n",
       "</style>\n",
       "<table border=\"1\" class=\"dataframe\">\n",
       "  <thead>\n",
       "    <tr style=\"text-align: right;\">\n",
       "      <th></th>\n",
       "      <th>goog</th>\n",
       "      <th>AMZN</th>\n",
       "    </tr>\n",
       "    <tr>\n",
       "      <th>Date</th>\n",
       "      <th></th>\n",
       "      <th></th>\n",
       "    </tr>\n",
       "  </thead>\n",
       "  <tbody>\n",
       "    <tr>\n",
       "      <th>2012-01-03</th>\n",
       "      <td>331.462585</td>\n",
       "      <td>179.029999</td>\n",
       "    </tr>\n",
       "    <tr>\n",
       "      <th>2012-01-04</th>\n",
       "      <td>332.892242</td>\n",
       "      <td>177.509995</td>\n",
       "    </tr>\n",
       "    <tr>\n",
       "      <th>2012-01-05</th>\n",
       "      <td>328.274536</td>\n",
       "      <td>177.610001</td>\n",
       "    </tr>\n",
       "    <tr>\n",
       "      <th>2012-01-06</th>\n",
       "      <td>323.796326</td>\n",
       "      <td>182.610001</td>\n",
       "    </tr>\n",
       "    <tr>\n",
       "      <th>2012-01-09</th>\n",
       "      <td>310.067780</td>\n",
       "      <td>178.559998</td>\n",
       "    </tr>\n",
       "  </tbody>\n",
       "</table>\n",
       "</div>"
      ],
      "text/plain": [
       "                  goog        AMZN\n",
       "Date                              \n",
       "2012-01-03  331.462585  179.029999\n",
       "2012-01-04  332.892242  177.509995\n",
       "2012-01-05  328.274536  177.610001\n",
       "2012-01-06  323.796326  182.610001\n",
       "2012-01-09  310.067780  178.559998"
      ]
     },
     "execution_count": 39,
     "metadata": {},
     "output_type": "execute_result"
    }
   ],
   "source": [
    "stock_data.head()"
   ]
  },
  {
   "cell_type": "code",
   "execution_count": 40,
   "id": "e674a790",
   "metadata": {
    "execution": {
     "iopub.execute_input": "2022-01-17T08:51:54.854285Z",
     "iopub.status.busy": "2022-01-17T08:51:54.853617Z",
     "iopub.status.idle": "2022-01-17T08:51:55.270322Z",
     "shell.execute_reply": "2022-01-17T08:51:55.269755Z"
    },
    "id": "SOznFuBfpuuV",
    "outputId": "150efbbd-079b-4fb1-98b1-a6b404151108",
    "papermill": {
     "duration": 0.478498,
     "end_time": "2022-01-17T08:51:55.270464",
     "exception": false,
     "start_time": "2022-01-17T08:51:54.791966",
     "status": "completed"
    },
    "tags": []
   },
   "outputs": [
    {
     "data": {
      "text/plain": [
       "<AxesSubplot:xlabel='Date'>"
      ]
     },
     "execution_count": 40,
     "metadata": {},
     "output_type": "execute_result"
    },
    {
     "data": {
      "image/png": "[encoded data removed]",
      "text/plain": [
       "<Figure size 720x576 with 1 Axes>"
      ]
     },
     "metadata": {
      "needs_background": "light"
     },
     "output_type": "display_data"
    }
   ],
   "source": [
    "(stock_data/stock_data.iloc[0] * 100).plot(figsize = (10,8))"
   ]
  },
  {
   "cell_type": "code",
   "execution_count": 41,
   "id": "03ea0379",
   "metadata": {
    "execution": {
     "iopub.execute_input": "2022-01-17T08:51:55.397777Z",
     "iopub.status.busy": "2022-01-17T08:51:55.397137Z",
     "iopub.status.idle": "2022-01-17T08:51:55.413467Z",
     "shell.execute_reply": "2022-01-17T08:51:55.414055Z"
    },
    "id": "_zsdO8Mup05-",
    "outputId": "0b79fc8a-c1e9-453c-a3c2-793bfac994f3",
    "papermill": {
     "duration": 0.081717,
     "end_time": "2022-01-17T08:51:55.414231",
     "exception": false,
     "start_time": "2022-01-17T08:51:55.332514",
     "status": "completed"
    },
    "tags": []
   },
   "outputs": [
    {
     "data": {
      "text/html": [
       "<div>\n",
       "<style scoped>\n",
       "    .dataframe tbody tr th:only-of-type {\n",
       "        vertical-align: middle;\n",
       "    }\n",
       "\n",
       "    .dataframe tbody tr th {\n",
       "        vertical-align: top;\n",
       "    }\n",
       "\n",
       "    .dataframe thead th {\n",
       "        text-align: right;\n",
       "    }\n",
       "</style>\n",
       "<table border=\"1\" class=\"dataframe\">\n",
       "  <thead>\n",
       "    <tr style=\"text-align: right;\">\n",
       "      <th></th>\n",
       "      <th>goog</th>\n",
       "      <th>AMZN</th>\n",
       "    </tr>\n",
       "    <tr>\n",
       "      <th>Date</th>\n",
       "      <th></th>\n",
       "      <th></th>\n",
       "    </tr>\n",
       "  </thead>\n",
       "  <tbody>\n",
       "    <tr>\n",
       "      <th>2012-01-03</th>\n",
       "      <td>NaN</td>\n",
       "      <td>NaN</td>\n",
       "    </tr>\n",
       "    <tr>\n",
       "      <th>2012-01-04</th>\n",
       "      <td>0.004304</td>\n",
       "      <td>-0.008526</td>\n",
       "    </tr>\n",
       "    <tr>\n",
       "      <th>2012-01-05</th>\n",
       "      <td>-0.013969</td>\n",
       "      <td>0.000563</td>\n",
       "    </tr>\n",
       "    <tr>\n",
       "      <th>2012-01-06</th>\n",
       "      <td>-0.013736</td>\n",
       "      <td>0.027763</td>\n",
       "    </tr>\n",
       "    <tr>\n",
       "      <th>2012-01-09</th>\n",
       "      <td>-0.043324</td>\n",
       "      <td>-0.022428</td>\n",
       "    </tr>\n",
       "    <tr>\n",
       "      <th>...</th>\n",
       "      <td>...</td>\n",
       "      <td>...</td>\n",
       "    </tr>\n",
       "    <tr>\n",
       "      <th>2020-12-24</th>\n",
       "      <td>0.003728</td>\n",
       "      <td>-0.003957</td>\n",
       "    </tr>\n",
       "    <tr>\n",
       "      <th>2020-12-28</th>\n",
       "      <td>0.021190</td>\n",
       "      <td>0.034470</td>\n",
       "    </tr>\n",
       "    <tr>\n",
       "      <th>2020-12-29</th>\n",
       "      <td>-0.009828</td>\n",
       "      <td>0.011517</td>\n",
       "    </tr>\n",
       "    <tr>\n",
       "      <th>2020-12-30</th>\n",
       "      <td>-0.010977</td>\n",
       "      <td>-0.010942</td>\n",
       "    </tr>\n",
       "    <tr>\n",
       "      <th>2020-12-31</th>\n",
       "      <td>0.007080</td>\n",
       "      <td>-0.008840</td>\n",
       "    </tr>\n",
       "  </tbody>\n",
       "</table>\n",
       "<p>2265 rows × 2 columns</p>\n",
       "</div>"
      ],
      "text/plain": [
       "                goog      AMZN\n",
       "Date                          \n",
       "2012-01-03       NaN       NaN\n",
       "2012-01-04  0.004304 -0.008526\n",
       "2012-01-05 -0.013969  0.000563\n",
       "2012-01-06 -0.013736  0.027763\n",
       "2012-01-09 -0.043324 -0.022428\n",
       "...              ...       ...\n",
       "2020-12-24  0.003728 -0.003957\n",
       "2020-12-28  0.021190  0.034470\n",
       "2020-12-29 -0.009828  0.011517\n",
       "2020-12-30 -0.010977 -0.010942\n",
       "2020-12-31  0.007080 -0.008840\n",
       "\n",
       "[2265 rows x 2 columns]"
      ]
     },
     "execution_count": 41,
     "metadata": {},
     "output_type": "execute_result"
    }
   ],
   "source": [
    "logReturns = np.log(stock_data/stock_data.shift(1))\n",
    "logReturns"
   ]
  },
  {
   "cell_type": "code",
   "execution_count": 42,
   "id": "8bf9da4a",
   "metadata": {
    "execution": {
     "iopub.execute_input": "2022-01-17T08:51:55.543577Z",
     "iopub.status.busy": "2022-01-17T08:51:55.542687Z",
     "iopub.status.idle": "2022-01-17T08:51:55.551431Z",
     "shell.execute_reply": "2022-01-17T08:51:55.551974Z"
    },
    "id": "v2HRtYmbp7sr",
    "outputId": "00e21161-9ac7-4b6b-cdfd-a2830237b375",
    "papermill": {
     "duration": 0.075916,
     "end_time": "2022-01-17T08:51:55.552231",
     "exception": false,
     "start_time": "2022-01-17T08:51:55.476315",
     "status": "completed"
    },
    "tags": []
   },
   "outputs": [
    {
     "data": {
      "text/plain": [
       "goog    0.183848\n",
       "AMZN    0.320339\n",
       "dtype: float64"
      ]
     },
     "execution_count": 42,
     "metadata": {},
     "output_type": "execute_result"
    }
   ],
   "source": [
    "#To obtain annual average returns!\n",
    "logReturns.mean() * 250 "
   ]
  },
  {
   "cell_type": "code",
   "execution_count": 43,
   "id": "715bdf3e",
   "metadata": {
    "execution": {
     "iopub.execute_input": "2022-01-17T08:51:55.683551Z",
     "iopub.status.busy": "2022-01-17T08:51:55.682751Z",
     "iopub.status.idle": "2022-01-17T08:51:55.695356Z",
     "shell.execute_reply": "2022-01-17T08:51:55.695945Z"
    },
    "id": "Ufd7CmWnqA6h",
    "outputId": "a884243a-512b-49bb-a956-67f8b7751014",
    "papermill": {
     "duration": 0.080332,
     "end_time": "2022-01-17T08:51:55.696153",
     "exception": false,
     "start_time": "2022-01-17T08:51:55.615821",
     "status": "completed"
    },
    "tags": []
   },
   "outputs": [
    {
     "data": {
      "text/html": [
       "<div>\n",
       "<style scoped>\n",
       "    .dataframe tbody tr th:only-of-type {\n",
       "        vertical-align: middle;\n",
       "    }\n",
       "\n",
       "    .dataframe tbody tr th {\n",
       "        vertical-align: top;\n",
       "    }\n",
       "\n",
       "    .dataframe thead th {\n",
       "        text-align: right;\n",
       "    }\n",
       "</style>\n",
       "<table border=\"1\" class=\"dataframe\">\n",
       "  <thead>\n",
       "    <tr style=\"text-align: right;\">\n",
       "      <th></th>\n",
       "      <th>goog</th>\n",
       "      <th>AMZN</th>\n",
       "    </tr>\n",
       "  </thead>\n",
       "  <tbody>\n",
       "    <tr>\n",
       "      <th>goog</th>\n",
       "      <td>1.000000</td>\n",
       "      <td>0.960654</td>\n",
       "    </tr>\n",
       "    <tr>\n",
       "      <th>AMZN</th>\n",
       "      <td>0.960654</td>\n",
       "      <td>1.000000</td>\n",
       "    </tr>\n",
       "  </tbody>\n",
       "</table>\n",
       "</div>"
      ],
      "text/plain": [
       "          goog      AMZN\n",
       "goog  1.000000  0.960654\n",
       "AMZN  0.960654  1.000000"
      ]
     },
     "execution_count": 43,
     "metadata": {},
     "output_type": "execute_result"
    }
   ],
   "source": [
    "stock_data.corr()"
   ]
  },
  {
   "cell_type": "code",
   "execution_count": 44,
   "id": "b180b5c1",
   "metadata": {
    "execution": {
     "iopub.execute_input": "2022-01-17T08:51:55.830101Z",
     "iopub.status.busy": "2022-01-17T08:51:55.829168Z",
     "iopub.status.idle": "2022-01-17T08:51:55.834508Z",
     "shell.execute_reply": "2022-01-17T08:51:55.835115Z"
    },
    "id": "fTkunQDaqIlZ",
    "outputId": "1a2496c4-77b3-485f-c3ed-ab680efadd61",
    "papermill": {
     "duration": 0.074196,
     "end_time": "2022-01-17T08:51:55.835339",
     "exception": false,
     "start_time": "2022-01-17T08:51:55.761143",
     "status": "completed"
    },
    "tags": []
   },
   "outputs": [
    {
     "data": {
      "text/plain": [
       "2"
      ]
     },
     "execution_count": 44,
     "metadata": {},
     "output_type": "execute_result"
    }
   ],
   "source": [
    "# generating weights code\n",
    "numberOfStocks = len(stocks)\n",
    "numberOfStocks"
   ]
  },
  {
   "cell_type": "code",
   "execution_count": 45,
   "id": "6958f024",
   "metadata": {
    "execution": {
     "iopub.execute_input": "2022-01-17T08:51:56.000970Z",
     "iopub.status.busy": "2022-01-17T08:51:56.000166Z",
     "iopub.status.idle": "2022-01-17T08:51:56.003149Z",
     "shell.execute_reply": "2022-01-17T08:51:56.003681Z"
    },
    "id": "0FV0gY4HqN_Z",
    "outputId": "c49204ef-43f5-4f95-99de-5dda42217c2b",
    "papermill": {
     "duration": 0.089512,
     "end_time": "2022-01-17T08:51:56.003927",
     "exception": false,
     "start_time": "2022-01-17T08:51:55.914415",
     "status": "completed"
    },
    "tags": []
   },
   "outputs": [
    {
     "data": {
      "text/plain": [
       "[0.19018562, 0.93358835]"
      ]
     },
     "execution_count": 45,
     "metadata": {},
     "output_type": "execute_result"
    }
   ],
   "source": [
    "weights1 = [0.19018562, 0.93358835]\n",
    "\n",
    "weights1"
   ]
  },
  {
   "cell_type": "code",
   "execution_count": 46,
   "id": "6d7f4876",
   "metadata": {
    "execution": {
     "iopub.execute_input": "2022-01-17T08:51:56.138497Z",
     "iopub.status.busy": "2022-01-17T08:51:56.137764Z",
     "iopub.status.idle": "2022-01-17T08:51:56.143069Z",
     "shell.execute_reply": "2022-01-17T08:51:56.143559Z"
    },
    "id": "4Zp9akqoqSOP",
    "outputId": "59e6a0c4-9451-49cb-c42b-85bd6a32a768",
    "papermill": {
     "duration": 0.074105,
     "end_time": "2022-01-17T08:51:56.143765",
     "exception": false,
     "start_time": "2022-01-17T08:51:56.069660",
     "status": "completed"
    },
    "tags": []
   },
   "outputs": [
    {
     "data": {
      "text/plain": [
       "array([0.16923832, 0.83076168])"
      ]
     },
     "execution_count": 46,
     "metadata": {},
     "output_type": "execute_result"
    }
   ],
   "source": [
    "weights = weights1/np.sum(weights1)\n",
    "weights"
   ]
  },
  {
   "cell_type": "code",
   "execution_count": 47,
   "id": "8af5dabc",
   "metadata": {
    "execution": {
     "iopub.execute_input": "2022-01-17T08:51:56.277472Z",
     "iopub.status.busy": "2022-01-17T08:51:56.276781Z",
     "iopub.status.idle": "2022-01-17T08:51:56.285147Z",
     "shell.execute_reply": "2022-01-17T08:51:56.284504Z"
    },
    "id": "4PDmLS0LqWYQ",
    "outputId": "371cae47-6810-411d-cb4a-883665d2de68",
    "papermill": {
     "duration": 0.076415,
     "end_time": "2022-01-17T08:51:56.285338",
     "exception": false,
     "start_time": "2022-01-17T08:51:56.208923",
     "status": "completed"
    },
    "tags": []
   },
   "outputs": [
    {
     "data": {
      "text/plain": [
       "0.2972392541896729"
      ]
     },
     "execution_count": 47,
     "metadata": {},
     "output_type": "execute_result"
    }
   ],
   "source": [
    "(weights * logReturns.mean()).sum() * 250"
   ]
  },
  {
   "cell_type": "code",
   "execution_count": 48,
   "id": "6989ce0c",
   "metadata": {
    "execution": {
     "iopub.execute_input": "2022-01-17T08:51:56.423610Z",
     "iopub.status.busy": "2022-01-17T08:51:56.422847Z",
     "iopub.status.idle": "2022-01-17T08:51:56.432522Z",
     "shell.execute_reply": "2022-01-17T08:51:56.431793Z"
    },
    "id": "DeENjZPUs6EY",
    "outputId": "22abbb2b-ff81-473b-be76-690a1cc47169",
    "papermill": {
     "duration": 0.079398,
     "end_time": "2022-01-17T08:51:56.432698",
     "exception": false,
     "start_time": "2022-01-17T08:51:56.353300",
     "status": "completed"
    },
    "tags": []
   },
   "outputs": [
    {
     "data": {
      "text/plain": [
       "0.2804180244733001"
      ]
     },
     "execution_count": 48,
     "metadata": {},
     "output_type": "execute_result"
    }
   ],
   "source": [
    "np.sqrt(np.dot(weights.T, np.dot(logReturns.cov() * 250, weights)))"
   ]
  },
  {
   "cell_type": "code",
   "execution_count": 49,
   "id": "aa9f43df",
   "metadata": {
    "execution": {
     "iopub.execute_input": "2022-01-17T08:51:56.572887Z",
     "iopub.status.busy": "2022-01-17T08:51:56.571648Z",
     "iopub.status.idle": "2022-01-17T08:51:56.737654Z",
     "shell.execute_reply": "2022-01-17T08:51:56.738231Z"
    },
    "id": "-mozJs0fuoL5",
    "outputId": "ad57048b-aea0-41d5-fa0f-a25037dd326b",
    "papermill": {
     "duration": 0.238132,
     "end_time": "2022-01-17T08:51:56.738473",
     "exception": false,
     "start_time": "2022-01-17T08:51:56.500341",
     "status": "completed"
    },
    "tags": []
   },
   "outputs": [
    {
     "data": {
      "text/html": [
       "<div>\n",
       "<style scoped>\n",
       "    .dataframe tbody tr th:only-of-type {\n",
       "        vertical-align: middle;\n",
       "    }\n",
       "\n",
       "    .dataframe tbody tr th {\n",
       "        vertical-align: top;\n",
       "    }\n",
       "\n",
       "    .dataframe thead th {\n",
       "        text-align: right;\n",
       "    }\n",
       "</style>\n",
       "<table border=\"1\" class=\"dataframe\">\n",
       "  <thead>\n",
       "    <tr style=\"text-align: right;\">\n",
       "      <th></th>\n",
       "      <th>Weight of goog</th>\n",
       "      <th>Weight of AMZN</th>\n",
       "      <th>Expected Return</th>\n",
       "      <th>Standard deviation</th>\n",
       "    </tr>\n",
       "  </thead>\n",
       "  <tbody>\n",
       "    <tr>\n",
       "      <th>0</th>\n",
       "      <td>0.546725</td>\n",
       "      <td>0.453275</td>\n",
       "      <td>0.245716</td>\n",
       "      <td>0.245473</td>\n",
       "    </tr>\n",
       "    <tr>\n",
       "      <th>1</th>\n",
       "      <td>0.912125</td>\n",
       "      <td>0.087875</td>\n",
       "      <td>0.195842</td>\n",
       "      <td>0.246257</td>\n",
       "    </tr>\n",
       "    <tr>\n",
       "      <th>2</th>\n",
       "      <td>0.566977</td>\n",
       "      <td>0.433023</td>\n",
       "      <td>0.242952</td>\n",
       "      <td>0.244562</td>\n",
       "    </tr>\n",
       "    <tr>\n",
       "      <th>3</th>\n",
       "      <td>0.492545</td>\n",
       "      <td>0.507455</td>\n",
       "      <td>0.253111</td>\n",
       "      <td>0.248439</td>\n",
       "    </tr>\n",
       "    <tr>\n",
       "      <th>4</th>\n",
       "      <td>0.959194</td>\n",
       "      <td>0.040806</td>\n",
       "      <td>0.189418</td>\n",
       "      <td>0.248982</td>\n",
       "    </tr>\n",
       "  </tbody>\n",
       "</table>\n",
       "</div>"
      ],
      "text/plain": [
       "   Weight of goog  Weight of AMZN  Expected Return  Standard deviation\n",
       "0        0.546725        0.453275         0.245716            0.245473\n",
       "1        0.912125        0.087875         0.195842            0.246257\n",
       "2        0.566977        0.433023         0.242952            0.244562\n",
       "3        0.492545        0.507455         0.253111            0.248439\n",
       "4        0.959194        0.040806         0.189418            0.248982"
      ]
     },
     "execution_count": 49,
     "metadata": {},
     "output_type": "execute_result"
    }
   ],
   "source": [
    "expectedReturn = []\n",
    "standardDeviation = []\n",
    "weightList0 = []\n",
    "weightList1 = []\n",
    "\n",
    "# Running simulations for finding optimum weights\n",
    "for i in range(100):\n",
    "    weights = np.random.random(numberOfStocks)\n",
    "    weights = weights/ weights.sum()\n",
    "    weightList0.append(weights[0])\n",
    "    weightList1.append(weights[1])\n",
    "    expectedReturn.append((weights * logReturns.mean()).sum() * 250)\n",
    "    standardDeviation.append(np.sqrt(np.dot(weights.T, np.dot(logReturns.cov() * 250, weights))))\n",
    "\n",
    "#Converting lists into arrays\n",
    "weightList0 = np.array(weightList0) \n",
    "weightList1 = np.array(weightList1) \n",
    "expectedReturn = np.array(expectedReturn) \n",
    "standardDeviation = np.array(standardDeviation)\n",
    "\n",
    "#Creating dataframe\n",
    "df = pd.DataFrame({\"Weight of goog\": weightList0, \"Weight of AMZN\": weightList1, \"Expected Return\": expectedReturn, \"Standard deviation\": standardDeviation})\n",
    "df.head()"
   ]
  },
  {
   "cell_type": "code",
   "execution_count": 50,
   "id": "19d1d80e",
   "metadata": {
    "execution": {
     "iopub.execute_input": "2022-01-17T08:51:56.877297Z",
     "iopub.status.busy": "2022-01-17T08:51:56.876238Z",
     "iopub.status.idle": "2022-01-17T08:51:57.136806Z",
     "shell.execute_reply": "2022-01-17T08:51:57.136213Z"
    },
    "id": "RjpmlR4xu8bC",
    "outputId": "9ad7859a-d394-4898-d5f0-fff3a2baf6ee",
    "papermill": {
     "duration": 0.331837,
     "end_time": "2022-01-17T08:51:57.136999",
     "exception": false,
     "start_time": "2022-01-17T08:51:56.805162",
     "status": "completed"
    },
    "tags": []
   },
   "outputs": [
    {
     "data": {
      "image/png": "[encoded data removed]",
      "text/plain": [
       "<Figure size 1120x800 with 1 Axes>"
      ]
     },
     "metadata": {
      "needs_background": "light"
     },
     "output_type": "display_data"
    }
   ],
   "source": [
    "plt.figure(figsize=(14, 10), dpi=80)\n",
    "plt.scatter(df[\"Standard deviation\"], df[\"Expected Return\"])\n",
    "plt.xlabel(\"Standard deviation\")\n",
    "plt.ylabel(\"Expected return (in %)\")\n",
    "plt.show()"
   ]
  },
  {
   "cell_type": "code",
   "execution_count": 51,
   "id": "1c0316c3",
   "metadata": {
    "execution": {
     "iopub.execute_input": "2022-01-17T08:51:57.289815Z",
     "iopub.status.busy": "2022-01-17T08:51:57.288953Z",
     "iopub.status.idle": "2022-01-17T08:51:57.292387Z",
     "shell.execute_reply": "2022-01-17T08:51:57.292915Z"
    },
    "id": "65Y5eFUBu_Aa",
    "outputId": "8dce1ac0-167c-4c9e-af26-4799c08b1d4a",
    "papermill": {
     "duration": 0.08563,
     "end_time": "2022-01-17T08:51:57.293120",
     "exception": false,
     "start_time": "2022-01-17T08:51:57.207490",
     "status": "completed"
    },
    "tags": []
   },
   "outputs": [
    {
     "data": {
      "text/html": [
       "<div>\n",
       "<style scoped>\n",
       "    .dataframe tbody tr th:only-of-type {\n",
       "        vertical-align: middle;\n",
       "    }\n",
       "\n",
       "    .dataframe tbody tr th {\n",
       "        vertical-align: top;\n",
       "    }\n",
       "\n",
       "    .dataframe thead th {\n",
       "        text-align: right;\n",
       "    }\n",
       "</style>\n",
       "<table border=\"1\" class=\"dataframe\">\n",
       "  <thead>\n",
       "    <tr style=\"text-align: right;\">\n",
       "      <th></th>\n",
       "      <th>Weight of goog</th>\n",
       "      <th>Weight of AMZN</th>\n",
       "      <th>Expected Return</th>\n",
       "      <th>Standard deviation</th>\n",
       "    </tr>\n",
       "  </thead>\n",
       "  <tbody>\n",
       "  </tbody>\n",
       "</table>\n",
       "</div>"
      ],
      "text/plain": [
       "Empty DataFrame\n",
       "Columns: [Weight of goog, Weight of AMZN, Expected Return, Standard deviation]\n",
       "Index: []"
      ]
     },
     "execution_count": 51,
     "metadata": {},
     "output_type": "execute_result"
    }
   ],
   "source": [
    "df[(df[\"Expected Return\"]>0.11) & (df[\"Expected Return\"]< 0.12)].sort_values(by=['Expected Return'])\n"
   ]
  },
  {
   "cell_type": "code",
   "execution_count": 52,
   "id": "6ae39ac9",
   "metadata": {
    "execution": {
     "iopub.execute_input": "2022-01-17T08:51:57.452249Z",
     "iopub.status.busy": "2022-01-17T08:51:57.451231Z",
     "iopub.status.idle": "2022-01-17T08:51:57.456540Z",
     "shell.execute_reply": "2022-01-17T08:51:57.455951Z"
    },
    "id": "_nhJMvNIvEWt",
    "outputId": "91f51ae6-cfde-4364-9b9f-7f9889dcbc80",
    "papermill": {
     "duration": 0.089957,
     "end_time": "2022-01-17T08:51:57.456703",
     "exception": false,
     "start_time": "2022-01-17T08:51:57.366746",
     "status": "completed"
    },
    "tags": []
   },
   "outputs": [
    {
     "data": {
      "text/html": [
       "<div>\n",
       "<style scoped>\n",
       "    .dataframe tbody tr th:only-of-type {\n",
       "        vertical-align: middle;\n",
       "    }\n",
       "\n",
       "    .dataframe tbody tr th {\n",
       "        vertical-align: top;\n",
       "    }\n",
       "\n",
       "    .dataframe thead th {\n",
       "        text-align: right;\n",
       "    }\n",
       "</style>\n",
       "<table border=\"1\" class=\"dataframe\">\n",
       "  <thead>\n",
       "    <tr style=\"text-align: right;\">\n",
       "      <th></th>\n",
       "      <th>Weight of goog</th>\n",
       "      <th>Weight of AMZN</th>\n",
       "      <th>Expected Return</th>\n",
       "      <th>Standard deviation</th>\n",
       "    </tr>\n",
       "  </thead>\n",
       "  <tbody>\n",
       "    <tr>\n",
       "      <th>75</th>\n",
       "      <td>0.999715</td>\n",
       "      <td>0.000285</td>\n",
       "      <td>0.183887</td>\n",
       "      <td>0.251777</td>\n",
       "    </tr>\n",
       "    <tr>\n",
       "      <th>8</th>\n",
       "      <td>0.986507</td>\n",
       "      <td>0.013493</td>\n",
       "      <td>0.185690</td>\n",
       "      <td>0.250821</td>\n",
       "    </tr>\n",
       "    <tr>\n",
       "      <th>20</th>\n",
       "      <td>0.962992</td>\n",
       "      <td>0.037008</td>\n",
       "      <td>0.188899</td>\n",
       "      <td>0.249227</td>\n",
       "    </tr>\n",
       "    <tr>\n",
       "      <th>4</th>\n",
       "      <td>0.959194</td>\n",
       "      <td>0.040806</td>\n",
       "      <td>0.189418</td>\n",
       "      <td>0.248982</td>\n",
       "    </tr>\n",
       "    <tr>\n",
       "      <th>93</th>\n",
       "      <td>0.942491</td>\n",
       "      <td>0.057509</td>\n",
       "      <td>0.191698</td>\n",
       "      <td>0.247950</td>\n",
       "    </tr>\n",
       "    <tr>\n",
       "      <th>27</th>\n",
       "      <td>0.931277</td>\n",
       "      <td>0.068723</td>\n",
       "      <td>0.193228</td>\n",
       "      <td>0.247297</td>\n",
       "    </tr>\n",
       "    <tr>\n",
       "      <th>56</th>\n",
       "      <td>0.931221</td>\n",
       "      <td>0.068779</td>\n",
       "      <td>0.193236</td>\n",
       "      <td>0.247294</td>\n",
       "    </tr>\n",
       "    <tr>\n",
       "      <th>38</th>\n",
       "      <td>0.931194</td>\n",
       "      <td>0.068806</td>\n",
       "      <td>0.193240</td>\n",
       "      <td>0.247292</td>\n",
       "    </tr>\n",
       "    <tr>\n",
       "      <th>62</th>\n",
       "      <td>0.930603</td>\n",
       "      <td>0.069397</td>\n",
       "      <td>0.193320</td>\n",
       "      <td>0.247259</td>\n",
       "    </tr>\n",
       "    <tr>\n",
       "      <th>81</th>\n",
       "      <td>0.920729</td>\n",
       "      <td>0.079271</td>\n",
       "      <td>0.194668</td>\n",
       "      <td>0.246713</td>\n",
       "    </tr>\n",
       "  </tbody>\n",
       "</table>\n",
       "</div>"
      ],
      "text/plain": [
       "    Weight of goog  Weight of AMZN  Expected Return  Standard deviation\n",
       "75        0.999715        0.000285         0.183887            0.251777\n",
       "8         0.986507        0.013493         0.185690            0.250821\n",
       "20        0.962992        0.037008         0.188899            0.249227\n",
       "4         0.959194        0.040806         0.189418            0.248982\n",
       "93        0.942491        0.057509         0.191698            0.247950\n",
       "27        0.931277        0.068723         0.193228            0.247297\n",
       "56        0.931221        0.068779         0.193236            0.247294\n",
       "38        0.931194        0.068806         0.193240            0.247292\n",
       "62        0.930603        0.069397         0.193320            0.247259\n",
       "81        0.920729        0.079271         0.194668            0.246713"
      ]
     },
     "execution_count": 52,
     "metadata": {},
     "output_type": "execute_result"
    }
   ],
   "source": [
    "df[(df[\"Expected Return\"]>0.11)].sort_values(by=['Expected Return']).head(10)"
   ]
  },
  {
   "cell_type": "code",
   "execution_count": 53,
   "id": "56405447",
   "metadata": {
    "execution": {
     "iopub.execute_input": "2022-01-17T08:51:57.601264Z",
     "iopub.status.busy": "2022-01-17T08:51:57.600139Z",
     "iopub.status.idle": "2022-01-17T08:51:57.606860Z",
     "shell.execute_reply": "2022-01-17T08:51:57.607544Z"
    },
    "id": "lNYVuvBzvMUL",
    "outputId": "544085b7-f795-410e-be94-eddedb224921",
    "papermill": {
     "duration": 0.082001,
     "end_time": "2022-01-17T08:51:57.607755",
     "exception": false,
     "start_time": "2022-01-17T08:51:57.525754",
     "status": "completed"
    },
    "tags": []
   },
   "outputs": [
    {
     "data": {
      "text/plain": [
       "0.24682813867639603"
      ]
     },
     "execution_count": 53,
     "metadata": {},
     "output_type": "execute_result"
    }
   ],
   "source": [
    "df[\"Expected Return\"].mean()"
   ]
  },
  {
   "cell_type": "code",
   "execution_count": 54,
   "id": "fbc891a0",
   "metadata": {
    "execution": {
     "iopub.execute_input": "2022-01-17T08:51:57.752075Z",
     "iopub.status.busy": "2022-01-17T08:51:57.751015Z",
     "iopub.status.idle": "2022-01-17T08:51:57.758178Z",
     "shell.execute_reply": "2022-01-17T08:51:57.758807Z"
    },
    "id": "qaqulz--vTNs",
    "outputId": "bc9ffd7c-0ae3-4138-d787-39c352fde150",
    "papermill": {
     "duration": 0.08142,
     "end_time": "2022-01-17T08:51:57.759036",
     "exception": false,
     "start_time": "2022-01-17T08:51:57.677616",
     "status": "completed"
    },
    "tags": []
   },
   "outputs": [
    {
     "data": {
      "text/plain": [
       "0.24366378100914632"
      ]
     },
     "execution_count": 54,
     "metadata": {},
     "output_type": "execute_result"
    }
   ],
   "source": [
    "df[\"Expected Return\"].sort_values().median()"
   ]
  },
  {
   "cell_type": "code",
   "execution_count": 55,
   "id": "a6c1b9a8",
   "metadata": {
    "execution": {
     "iopub.execute_input": "2022-01-17T08:51:57.910436Z",
     "iopub.status.busy": "2022-01-17T08:51:57.909666Z",
     "iopub.status.idle": "2022-01-17T08:51:57.921024Z",
     "shell.execute_reply": "2022-01-17T08:51:57.921516Z"
    },
    "id": "_UV8E4-gvgpm",
    "outputId": "70380097-35c7-485e-b903-371b925ebf97",
    "papermill": {
     "duration": 0.092075,
     "end_time": "2022-01-17T08:51:57.921727",
     "exception": false,
     "start_time": "2022-01-17T08:51:57.829652",
     "status": "completed"
    },
    "tags": []
   },
   "outputs": [
    {
     "data": {
      "text/html": [
       "<div>\n",
       "<style scoped>\n",
       "    .dataframe tbody tr th:only-of-type {\n",
       "        vertical-align: middle;\n",
       "    }\n",
       "\n",
       "    .dataframe tbody tr th {\n",
       "        vertical-align: top;\n",
       "    }\n",
       "\n",
       "    .dataframe thead th {\n",
       "        text-align: right;\n",
       "    }\n",
       "</style>\n",
       "<table border=\"1\" class=\"dataframe\">\n",
       "  <thead>\n",
       "    <tr style=\"text-align: right;\">\n",
       "      <th></th>\n",
       "      <th>Weight of goog</th>\n",
       "      <th>Weight of AMZN</th>\n",
       "      <th>Expected Return</th>\n",
       "      <th>Standard deviation</th>\n",
       "    </tr>\n",
       "  </thead>\n",
       "  <tbody>\n",
       "    <tr>\n",
       "      <th>75</th>\n",
       "      <td>0.999715</td>\n",
       "      <td>0.000285</td>\n",
       "      <td>0.183887</td>\n",
       "      <td>0.251777</td>\n",
       "    </tr>\n",
       "    <tr>\n",
       "      <th>8</th>\n",
       "      <td>0.986507</td>\n",
       "      <td>0.013493</td>\n",
       "      <td>0.185690</td>\n",
       "      <td>0.250821</td>\n",
       "    </tr>\n",
       "    <tr>\n",
       "      <th>20</th>\n",
       "      <td>0.962992</td>\n",
       "      <td>0.037008</td>\n",
       "      <td>0.188899</td>\n",
       "      <td>0.249227</td>\n",
       "    </tr>\n",
       "    <tr>\n",
       "      <th>4</th>\n",
       "      <td>0.959194</td>\n",
       "      <td>0.040806</td>\n",
       "      <td>0.189418</td>\n",
       "      <td>0.248982</td>\n",
       "    </tr>\n",
       "    <tr>\n",
       "      <th>93</th>\n",
       "      <td>0.942491</td>\n",
       "      <td>0.057509</td>\n",
       "      <td>0.191698</td>\n",
       "      <td>0.247950</td>\n",
       "    </tr>\n",
       "    <tr>\n",
       "      <th>...</th>\n",
       "      <td>...</td>\n",
       "      <td>...</td>\n",
       "      <td>...</td>\n",
       "      <td>...</td>\n",
       "    </tr>\n",
       "    <tr>\n",
       "      <th>85</th>\n",
       "      <td>0.134750</td>\n",
       "      <td>0.865250</td>\n",
       "      <td>0.301947</td>\n",
       "      <td>0.285069</td>\n",
       "    </tr>\n",
       "    <tr>\n",
       "      <th>24</th>\n",
       "      <td>0.120005</td>\n",
       "      <td>0.879995</td>\n",
       "      <td>0.303959</td>\n",
       "      <td>0.287120</td>\n",
       "    </tr>\n",
       "    <tr>\n",
       "      <th>87</th>\n",
       "      <td>0.118827</td>\n",
       "      <td>0.881173</td>\n",
       "      <td>0.304120</td>\n",
       "      <td>0.287285</td>\n",
       "    </tr>\n",
       "    <tr>\n",
       "      <th>25</th>\n",
       "      <td>0.105568</td>\n",
       "      <td>0.894432</td>\n",
       "      <td>0.305930</td>\n",
       "      <td>0.289162</td>\n",
       "    </tr>\n",
       "    <tr>\n",
       "      <th>83</th>\n",
       "      <td>0.057714</td>\n",
       "      <td>0.942286</td>\n",
       "      <td>0.312461</td>\n",
       "      <td>0.296167</td>\n",
       "    </tr>\n",
       "  </tbody>\n",
       "</table>\n",
       "<p>100 rows × 4 columns</p>\n",
       "</div>"
      ],
      "text/plain": [
       "    Weight of goog  Weight of AMZN  Expected Return  Standard deviation\n",
       "75        0.999715        0.000285         0.183887            0.251777\n",
       "8         0.986507        0.013493         0.185690            0.250821\n",
       "20        0.962992        0.037008         0.188899            0.249227\n",
       "4         0.959194        0.040806         0.189418            0.248982\n",
       "93        0.942491        0.057509         0.191698            0.247950\n",
       "..             ...             ...              ...                 ...\n",
       "85        0.134750        0.865250         0.301947            0.285069\n",
       "24        0.120005        0.879995         0.303959            0.287120\n",
       "87        0.118827        0.881173         0.304120            0.287285\n",
       "25        0.105568        0.894432         0.305930            0.289162\n",
       "83        0.057714        0.942286         0.312461            0.296167\n",
       "\n",
       "[100 rows x 4 columns]"
      ]
     },
     "execution_count": 55,
     "metadata": {},
     "output_type": "execute_result"
    }
   ],
   "source": [
    "df[(df[\"Expected Return\"]>0.135)].sort_values(by=['Expected Return'])\n"
   ]
  },
  {
   "cell_type": "code",
   "execution_count": 56,
   "id": "dc9d5fc4",
   "metadata": {
    "execution": {
     "iopub.execute_input": "2022-01-17T08:51:58.068839Z",
     "iopub.status.busy": "2022-01-17T08:51:58.067770Z",
     "iopub.status.idle": "2022-01-17T08:51:58.075764Z",
     "shell.execute_reply": "2022-01-17T08:51:58.076454Z"
    },
    "id": "5G4hnRcWvjII",
    "outputId": "49c55829-1d27-4019-83bd-2a8ba675d8b9",
    "papermill": {
     "duration": 0.083883,
     "end_time": "2022-01-17T08:51:58.076664",
     "exception": false,
     "start_time": "2022-01-17T08:51:57.992781",
     "status": "completed"
    },
    "tags": []
   },
   "outputs": [
    {
     "data": {
      "text/plain": [
       "Weight of goog        0.400633\n",
       "Weight of AMZN        0.599367\n",
       "Expected Return       0.265656\n",
       "Standard deviation    0.255159\n",
       "Name: 15, dtype: float64"
      ]
     },
     "execution_count": 56,
     "metadata": {},
     "output_type": "execute_result"
    }
   ],
   "source": [
    "df.loc[15]"
   ]
  }
 ],
 "metadata": {
  "kernelspec": {
   "display_name": "Python 3",
   "language": "python",
   "name": "python3"
  },
  "language_info": {
   "codemirror_mode": {
    "name": "ipython",
    "version": 3
   },
   "file_extension": ".py",
   "mimetype": "text/x-python",
   "name": "python",
   "nbconvert_exporter": "python",
   "pygments_lexer": "ipython3",
   "version": "3.7.12"
  },
  "papermill": {
   "default_parameters": {},
   "duration": 48.774795,
   "end_time": "2022-01-17T08:51:59.263653",
   "environment_variables": {},
   "exception": null,
   "input_path": "__notebook__.ipynb",
   "output_path": "__notebook__.ipynb",
   "parameters": {},
   "start_time": "2022-01-17T08:51:10.488858",
   "version": "2.3.3"
  }
 },
 "nbformat": 4,
 "nbformat_minor": 5
}
