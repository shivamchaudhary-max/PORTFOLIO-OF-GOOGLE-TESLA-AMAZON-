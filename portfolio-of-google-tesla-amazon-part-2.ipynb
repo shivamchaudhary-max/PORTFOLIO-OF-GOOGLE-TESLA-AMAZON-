{
 "cells": [
  {
   "cell_type": "code",
   "execution_count": 1,
   "id": "1a5f869a",
   "metadata": {
    "execution": {
     "iopub.execute_input": "2022-01-17T08:54:50.394365Z",
     "iopub.status.busy": "2022-01-17T08:54:50.393662Z",
     "iopub.status.idle": "2022-01-17T08:54:50.396586Z",
     "shell.execute_reply": "2022-01-17T08:54:50.397128Z"
    },
    "id": "s0ytFBP8wEPF",
    "papermill": {
     "duration": 0.034246,
     "end_time": "2022-01-17T08:54:50.397436",
     "exception": false,
     "start_time": "2022-01-17T08:54:50.363190",
     "status": "completed"
    },
    "tags": []
   },
   "outputs": [],
   "source": [
    "#question 2\n",
    "stocks = ['goog','tsla','AMZN']\n"
   ]
  },
  {
   "cell_type": "code",
   "execution_count": 2,
   "id": "5ff05b90",
   "metadata": {
    "execution": {
     "iopub.execute_input": "2022-01-17T08:54:50.436166Z",
     "iopub.status.busy": "2022-01-17T08:54:50.435376Z",
     "iopub.status.idle": "2022-01-17T08:54:50.488647Z",
     "shell.execute_reply": "2022-01-17T08:54:50.489158Z"
    },
    "id": "C5OGkJiX5VoF",
    "papermill": {
     "duration": 0.074894,
     "end_time": "2022-01-17T08:54:50.489348",
     "exception": false,
     "start_time": "2022-01-17T08:54:50.414454",
     "status": "completed"
    },
    "tags": []
   },
   "outputs": [],
   "source": [
    "import numpy as np  \n",
    "from pandas_datareader import data as dr \n",
    "import pandas as pd\n",
    "import matplotlib.pyplot as plt"
   ]
  },
  {
   "cell_type": "code",
   "execution_count": 3,
   "id": "dafbef66",
   "metadata": {
    "execution": {
     "iopub.execute_input": "2022-01-17T08:54:50.523943Z",
     "iopub.status.busy": "2022-01-17T08:54:50.523308Z",
     "iopub.status.idle": "2022-01-17T08:55:01.566535Z",
     "shell.execute_reply": "2022-01-17T08:55:01.567092Z"
    },
    "id": "LYsPHKBR5bKn",
    "outputId": "4f9fd6c1-06f2-491a-bc5c-a3ceefcf331e",
    "papermill": {
     "duration": 11.062295,
     "end_time": "2022-01-17T08:55:01.567303",
     "exception": false,
     "start_time": "2022-01-17T08:54:50.505008",
     "status": "completed"
    },
    "tags": []
   },
   "outputs": [
    {
     "name": "stdout",
     "output_type": "stream",
     "text": [
      "Requirement already satisfied: pandas-datareader in /opt/conda/lib/python3.7/site-packages (0.10.0)\r\n",
      "Requirement already satisfied: lxml in /opt/conda/lib/python3.7/site-packages (from pandas-datareader) (4.7.1)\r\n",
      "Requirement already satisfied: requests>=2.19.0 in /opt/conda/lib/python3.7/site-packages (from pandas-datareader) (2.26.0)\r\n",
      "Requirement already satisfied: pandas>=0.23 in /opt/conda/lib/python3.7/site-packages (from pandas-datareader) (1.3.4)\r\n",
      "Requirement already satisfied: python-dateutil>=2.7.3 in /opt/conda/lib/python3.7/site-packages (from pandas>=0.23->pandas-datareader) (2.8.0)\r\n",
      "Requirement already satisfied: pytz>=2017.3 in /opt/conda/lib/python3.7/site-packages (from pandas>=0.23->pandas-datareader) (2021.3)\r\n",
      "Requirement already satisfied: numpy>=1.17.3 in /opt/conda/lib/python3.7/site-packages (from pandas>=0.23->pandas-datareader) (1.19.5)\r\n",
      "Requirement already satisfied: idna<4,>=2.5 in /opt/conda/lib/python3.7/site-packages (from requests>=2.19.0->pandas-datareader) (3.1)\r\n",
      "Requirement already satisfied: certifi>=2017.4.17 in /opt/conda/lib/python3.7/site-packages (from requests>=2.19.0->pandas-datareader) (2021.10.8)\r\n",
      "Requirement already satisfied: urllib3<1.27,>=1.21.1 in /opt/conda/lib/python3.7/site-packages (from requests>=2.19.0->pandas-datareader) (1.26.7)\r\n",
      "Requirement already satisfied: charset-normalizer~=2.0.0 in /opt/conda/lib/python3.7/site-packages (from requests>=2.19.0->pandas-datareader) (2.0.8)\r\n",
      "Requirement already satisfied: six>=1.5 in /opt/conda/lib/python3.7/site-packages (from python-dateutil>=2.7.3->pandas>=0.23->pandas-datareader) (1.16.0)\r\n",
      "\u001b[33mWARNING: Running pip as the 'root' user can result in broken permissions and conflicting behaviour with the system package manager. It is recommended to use a virtual environment instead: https://pip.pypa.io/warnings/venv\u001b[0m\r\n",
      "Note: you may need to restart the kernel to use updated packages.\n"
     ]
    }
   ],
   "source": [
    "pip install --upgrade pandas-datareader"
   ]
  },
  {
   "cell_type": "code",
   "execution_count": 4,
   "id": "ddf99d3b",
   "metadata": {
    "execution": {
     "iopub.execute_input": "2022-01-17T08:55:01.618568Z",
     "iopub.status.busy": "2022-01-17T08:55:01.611896Z",
     "iopub.status.idle": "2022-01-17T08:55:02.543645Z",
     "shell.execute_reply": "2022-01-17T08:55:02.544235Z"
    },
    "id": "LrCq2wEa5dWB",
    "papermill": {
     "duration": 0.959529,
     "end_time": "2022-01-17T08:55:02.544449",
     "exception": false,
     "start_time": "2022-01-17T08:55:01.584920",
     "status": "completed"
    },
    "tags": []
   },
   "outputs": [],
   "source": [
    "#Importing the data\n",
    "PG = dr.DataReader('PG', data_source='yahoo', start='1995-1-1',end='2020-1-1')      "
   ]
  },
  {
   "cell_type": "code",
   "execution_count": 5,
   "id": "fe101ac1",
   "metadata": {
    "execution": {
     "iopub.execute_input": "2022-01-17T08:55:02.583494Z",
     "iopub.status.busy": "2022-01-17T08:55:02.582442Z",
     "iopub.status.idle": "2022-01-17T08:55:02.603807Z",
     "shell.execute_reply": "2022-01-17T08:55:02.604345Z"
    },
    "id": "j_zHzDBk69vB",
    "outputId": "6ae24f6f-06dd-4e74-bfda-de987c787507",
    "papermill": {
     "duration": 0.042627,
     "end_time": "2022-01-17T08:55:02.604521",
     "exception": false,
     "start_time": "2022-01-17T08:55:02.561894",
     "status": "completed"
    },
    "tags": []
   },
   "outputs": [
    {
     "data": {
      "text/html": [
       "<div>\n",
       "<style scoped>\n",
       "    .dataframe tbody tr th:only-of-type {\n",
       "        vertical-align: middle;\n",
       "    }\n",
       "\n",
       "    .dataframe tbody tr th {\n",
       "        vertical-align: top;\n",
       "    }\n",
       "\n",
       "    .dataframe thead th {\n",
       "        text-align: right;\n",
       "    }\n",
       "</style>\n",
       "<table border=\"1\" class=\"dataframe\">\n",
       "  <thead>\n",
       "    <tr style=\"text-align: right;\">\n",
       "      <th></th>\n",
       "      <th>High</th>\n",
       "      <th>Low</th>\n",
       "      <th>Open</th>\n",
       "      <th>Close</th>\n",
       "      <th>Volume</th>\n",
       "      <th>Adj Close</th>\n",
       "    </tr>\n",
       "    <tr>\n",
       "      <th>Date</th>\n",
       "      <th></th>\n",
       "      <th></th>\n",
       "      <th></th>\n",
       "      <th></th>\n",
       "      <th></th>\n",
       "      <th></th>\n",
       "    </tr>\n",
       "  </thead>\n",
       "  <tbody>\n",
       "    <tr>\n",
       "      <th>1995-01-03</th>\n",
       "      <td>15.62500</td>\n",
       "      <td>15.43750</td>\n",
       "      <td>15.46875</td>\n",
       "      <td>15.59375</td>\n",
       "      <td>3318400.0</td>\n",
       "      <td>8.014157</td>\n",
       "    </tr>\n",
       "    <tr>\n",
       "      <th>1995-01-04</th>\n",
       "      <td>15.65625</td>\n",
       "      <td>15.31250</td>\n",
       "      <td>15.53125</td>\n",
       "      <td>15.46875</td>\n",
       "      <td>2218800.0</td>\n",
       "      <td>7.949915</td>\n",
       "    </tr>\n",
       "    <tr>\n",
       "      <th>1995-01-05</th>\n",
       "      <td>15.43750</td>\n",
       "      <td>15.21875</td>\n",
       "      <td>15.37500</td>\n",
       "      <td>15.25000</td>\n",
       "      <td>2319600.0</td>\n",
       "      <td>7.837496</td>\n",
       "    </tr>\n",
       "    <tr>\n",
       "      <th>1995-01-06</th>\n",
       "      <td>15.40625</td>\n",
       "      <td>15.15625</td>\n",
       "      <td>15.15625</td>\n",
       "      <td>15.28125</td>\n",
       "      <td>3438000.0</td>\n",
       "      <td>7.853552</td>\n",
       "    </tr>\n",
       "    <tr>\n",
       "      <th>1995-01-09</th>\n",
       "      <td>15.40625</td>\n",
       "      <td>15.18750</td>\n",
       "      <td>15.34375</td>\n",
       "      <td>15.21875</td>\n",
       "      <td>1795200.0</td>\n",
       "      <td>7.821436</td>\n",
       "    </tr>\n",
       "  </tbody>\n",
       "</table>\n",
       "</div>"
      ],
      "text/plain": [
       "                High       Low      Open     Close     Volume  Adj Close\n",
       "Date                                                                    \n",
       "1995-01-03  15.62500  15.43750  15.46875  15.59375  3318400.0   8.014157\n",
       "1995-01-04  15.65625  15.31250  15.53125  15.46875  2218800.0   7.949915\n",
       "1995-01-05  15.43750  15.21875  15.37500  15.25000  2319600.0   7.837496\n",
       "1995-01-06  15.40625  15.15625  15.15625  15.28125  3438000.0   7.853552\n",
       "1995-01-09  15.40625  15.18750  15.34375  15.21875  1795200.0   7.821436"
      ]
     },
     "execution_count": 5,
     "metadata": {},
     "output_type": "execute_result"
    }
   ],
   "source": [
    "#Displaying the head of the dataframe PG. head() displays first 5 rows by default. \n",
    "PG.head()"
   ]
  },
  {
   "cell_type": "code",
   "execution_count": 6,
   "id": "69de29fc",
   "metadata": {
    "execution": {
     "iopub.execute_input": "2022-01-17T08:55:02.650873Z",
     "iopub.status.busy": "2022-01-17T08:55:02.650009Z",
     "iopub.status.idle": "2022-01-17T08:55:02.652861Z",
     "shell.execute_reply": "2022-01-17T08:55:02.653387Z"
    },
    "id": "3wG94-XY7CkT",
    "outputId": "3ec2f0a4-0c0d-4603-8df7-ecaa4727ab3f",
    "papermill": {
     "duration": 0.031117,
     "end_time": "2022-01-17T08:55:02.653566",
     "exception": false,
     "start_time": "2022-01-17T08:55:02.622449",
     "status": "completed"
    },
    "tags": []
   },
   "outputs": [
    {
     "data": {
      "text/plain": [
       "Date\n",
       "1995-01-03    8.014157\n",
       "1995-01-04    7.949915\n",
       "1995-01-05    7.837496\n",
       "1995-01-06    7.853552\n",
       "1995-01-09    7.821436\n",
       "Name: Adj Close, dtype: float64"
      ]
     },
     "execution_count": 6,
     "metadata": {},
     "output_type": "execute_result"
    }
   ],
   "source": [
    "PG['Adj Close'].head()"
   ]
  },
  {
   "cell_type": "code",
   "execution_count": 7,
   "id": "63b8a8e2",
   "metadata": {
    "execution": {
     "iopub.execute_input": "2022-01-17T08:55:02.699764Z",
     "iopub.status.busy": "2022-01-17T08:55:02.698923Z",
     "iopub.status.idle": "2022-01-17T08:55:02.702779Z",
     "shell.execute_reply": "2022-01-17T08:55:02.702143Z"
    },
    "id": "WStyLRz37Ise",
    "outputId": "509c4e6e-a83f-4d03-d2f6-f382b6f408e6",
    "papermill": {
     "duration": 0.030801,
     "end_time": "2022-01-17T08:55:02.702924",
     "exception": false,
     "start_time": "2022-01-17T08:55:02.672123",
     "status": "completed"
    },
    "tags": []
   },
   "outputs": [
    {
     "data": {
      "text/plain": [
       "Date\n",
       "1995-01-03         NaN\n",
       "1995-01-04    8.014157\n",
       "1995-01-05    7.949915\n",
       "1995-01-06    7.837496\n",
       "1995-01-09    7.853552\n",
       "Name: Adj Close, dtype: float64"
      ]
     },
     "execution_count": 7,
     "metadata": {},
     "output_type": "execute_result"
    }
   ],
   "source": [
    "PG['Adj Close'].shift(1).head()"
   ]
  },
  {
   "cell_type": "code",
   "execution_count": 8,
   "id": "9e97232b",
   "metadata": {
    "execution": {
     "iopub.execute_input": "2022-01-17T08:55:02.752844Z",
     "iopub.status.busy": "2022-01-17T08:55:02.749450Z",
     "iopub.status.idle": "2022-01-17T08:55:02.759976Z",
     "shell.execute_reply": "2022-01-17T08:55:02.760573Z"
    },
    "id": "FHRa_gMY7Oqo",
    "outputId": "860863b1-1c38-4df2-ad7a-1af7022a13c1",
    "papermill": {
     "duration": 0.03804,
     "end_time": "2022-01-17T08:55:02.760771",
     "exception": false,
     "start_time": "2022-01-17T08:55:02.722731",
     "status": "completed"
    },
    "tags": []
   },
   "outputs": [
    {
     "data": {
      "text/plain": [
       "Date\n",
       "1995-01-03         NaN\n",
       "1995-01-04    0.991984\n",
       "1995-01-05    0.985859\n",
       "1995-01-06    1.002049\n",
       "1995-01-09    0.995911\n",
       "                ...   \n",
       "2019-12-24         NaN\n",
       "2019-12-26         NaN\n",
       "2019-12-27         NaN\n",
       "2019-12-30         NaN\n",
       "2019-12-31         NaN\n",
       "Name: Adj Close, Length: 6294, dtype: float64"
      ]
     },
     "execution_count": 8,
     "metadata": {},
     "output_type": "execute_result"
    }
   ],
   "source": [
    "PG['Adj Close']/PG['Adj Close'].shift(1).head()"
   ]
  },
  {
   "cell_type": "code",
   "execution_count": 9,
   "id": "44fd5886",
   "metadata": {
    "execution": {
     "iopub.execute_input": "2022-01-17T08:55:02.804659Z",
     "iopub.status.busy": "2022-01-17T08:55:02.803634Z",
     "iopub.status.idle": "2022-01-17T08:55:02.819061Z",
     "shell.execute_reply": "2022-01-17T08:55:02.819814Z"
    },
    "id": "43eZwkmK7YKq",
    "outputId": "2c06191e-7c80-4e99-a4fc-8b21e7aaebe7",
    "papermill": {
     "duration": 0.039302,
     "end_time": "2022-01-17T08:55:02.820058",
     "exception": false,
     "start_time": "2022-01-17T08:55:02.780756",
     "status": "completed"
    },
    "tags": []
   },
   "outputs": [
    {
     "name": "stdout",
     "output_type": "stream",
     "text": [
      "Date\n",
      "1995-01-03         NaN\n",
      "1995-01-04   -0.008016\n",
      "1995-01-05   -0.014141\n",
      "1995-01-06    0.002049\n",
      "1995-01-09   -0.004089\n",
      "                ...   \n",
      "2019-12-24    0.002562\n",
      "2019-12-26    0.000000\n",
      "2019-12-27    0.006948\n",
      "2019-12-30   -0.012848\n",
      "2019-12-31    0.003455\n",
      "Name: Simple Return, Length: 6294, dtype: float64\n"
     ]
    }
   ],
   "source": [
    "PG['Simple Return'] = (PG['Adj Close']/PG['Adj Close'].shift(1))-1  \n",
    "\n",
    "print(PG['Simple Return'])"
   ]
  },
  {
   "cell_type": "code",
   "execution_count": 10,
   "id": "2b6ab984",
   "metadata": {
    "execution": {
     "iopub.execute_input": "2022-01-17T08:55:02.870586Z",
     "iopub.status.busy": "2022-01-17T08:55:02.869518Z",
     "iopub.status.idle": "2022-01-17T08:55:02.873428Z",
     "shell.execute_reply": "2022-01-17T08:55:02.874023Z"
    },
    "id": "Bgs-bam47nGf",
    "outputId": "5cdce5a7-64c0-4a39-fced-0e01ba0f340e",
    "papermill": {
     "duration": 0.032825,
     "end_time": "2022-01-17T08:55:02.874211",
     "exception": false,
     "start_time": "2022-01-17T08:55:02.841386",
     "status": "completed"
    },
    "tags": []
   },
   "outputs": [
    {
     "data": {
      "text/plain": [
       "0.0005268566645095665"
      ]
     },
     "execution_count": 10,
     "metadata": {},
     "output_type": "execute_result"
    }
   ],
   "source": [
    "daily_avg_returns = PG['Simple Return'].mean() # stocks return daily\n",
    "daily_avg_returns"
   ]
  },
  {
   "cell_type": "code",
   "execution_count": 11,
   "id": "5a259343",
   "metadata": {
    "execution": {
     "iopub.execute_input": "2022-01-17T08:55:02.919668Z",
     "iopub.status.busy": "2022-01-17T08:55:02.918657Z",
     "iopub.status.idle": "2022-01-17T08:55:02.924709Z",
     "shell.execute_reply": "2022-01-17T08:55:02.925349Z"
    },
    "id": "FAWdHIN170Qq",
    "outputId": "debb8a2b-03fa-4582-ed3a-5b393ce959a7",
    "papermill": {
     "duration": 0.030908,
     "end_time": "2022-01-17T08:55:02.925527",
     "exception": false,
     "start_time": "2022-01-17T08:55:02.894619",
     "status": "completed"
    },
    "tags": []
   },
   "outputs": [
    {
     "data": {
      "text/plain": [
       "0.13171416612739165"
      ]
     },
     "execution_count": 11,
     "metadata": {},
     "output_type": "execute_result"
    }
   ],
   "source": [
    "annual_avg_returns = PG['Simple Return'].mean() * 250\n",
    "annual_avg_returns"
   ]
  },
  {
   "cell_type": "code",
   "execution_count": 12,
   "id": "e00a2454",
   "metadata": {
    "execution": {
     "iopub.execute_input": "2022-01-17T08:55:02.971725Z",
     "iopub.status.busy": "2022-01-17T08:55:02.970704Z",
     "iopub.status.idle": "2022-01-17T08:55:05.775624Z",
     "shell.execute_reply": "2022-01-17T08:55:05.776214Z"
    },
    "id": "j5WeCZDx8V39",
    "papermill": {
     "duration": 2.830216,
     "end_time": "2022-01-17T08:55:05.776413",
     "exception": false,
     "start_time": "2022-01-17T08:55:02.946197",
     "status": "completed"
    },
    "tags": []
   },
   "outputs": [],
   "source": [
    "assets = ['goog', 'tsla', 'amzn']\n",
    "assetsAdjClose = pd.DataFrame()\n",
    "for a in assets:\n",
    "    assetsAdjClose[a] = dr.DataReader(a, data_source='yahoo', start='2011-1-1',end='2021-1-1')['Adj Close']"
   ]
  },
  {
   "cell_type": "code",
   "execution_count": 13,
   "id": "2cde6db9",
   "metadata": {
    "execution": {
     "iopub.execute_input": "2022-01-17T08:55:05.824907Z",
     "iopub.status.busy": "2022-01-17T08:55:05.824258Z",
     "iopub.status.idle": "2022-01-17T08:55:05.839744Z",
     "shell.execute_reply": "2022-01-17T08:55:05.840274Z"
    },
    "id": "rGj6hI9x8vlx",
    "outputId": "3541f2be-9486-47f6-9b4e-8624e6ed0f28",
    "papermill": {
     "duration": 0.042622,
     "end_time": "2022-01-17T08:55:05.840472",
     "exception": false,
     "start_time": "2022-01-17T08:55:05.797850",
     "status": "completed"
    },
    "tags": []
   },
   "outputs": [
    {
     "name": "stdout",
     "output_type": "stream",
     "text": [
      "<class 'pandas.core.frame.DataFrame'>\n",
      "DatetimeIndex: 2517 entries, 2011-01-03 to 2020-12-31\n",
      "Data columns (total 3 columns):\n",
      " #   Column  Non-Null Count  Dtype  \n",
      "---  ------  --------------  -----  \n",
      " 0   goog    2517 non-null   float64\n",
      " 1   tsla    2517 non-null   float64\n",
      " 2   amzn    2517 non-null   float64\n",
      "dtypes: float64(3)\n",
      "memory usage: 78.7 KB\n"
     ]
    }
   ],
   "source": [
    "assetsAdjClose.info() "
   ]
  },
  {
   "cell_type": "code",
   "execution_count": 14,
   "id": "7b1b6d57",
   "metadata": {
    "execution": {
     "iopub.execute_input": "2022-01-17T08:55:05.891797Z",
     "iopub.status.busy": "2022-01-17T08:55:05.888971Z",
     "iopub.status.idle": "2022-01-17T08:55:05.901049Z",
     "shell.execute_reply": "2022-01-17T08:55:05.901581Z"
    },
    "id": "0gjzFIZp8xCa",
    "outputId": "9e5b580e-fc35-41e5-e20f-20445f1a7e76",
    "papermill": {
     "duration": 0.03962,
     "end_time": "2022-01-17T08:55:05.901754",
     "exception": false,
     "start_time": "2022-01-17T08:55:05.862134",
     "status": "completed"
    },
    "tags": []
   },
   "outputs": [
    {
     "data": {
      "text/html": [
       "<div>\n",
       "<style scoped>\n",
       "    .dataframe tbody tr th:only-of-type {\n",
       "        vertical-align: middle;\n",
       "    }\n",
       "\n",
       "    .dataframe tbody tr th {\n",
       "        vertical-align: top;\n",
       "    }\n",
       "\n",
       "    .dataframe thead th {\n",
       "        text-align: right;\n",
       "    }\n",
       "</style>\n",
       "<table border=\"1\" class=\"dataframe\">\n",
       "  <thead>\n",
       "    <tr style=\"text-align: right;\">\n",
       "      <th></th>\n",
       "      <th>goog</th>\n",
       "      <th>tsla</th>\n",
       "      <th>amzn</th>\n",
       "    </tr>\n",
       "    <tr>\n",
       "      <th>Date</th>\n",
       "      <th></th>\n",
       "      <th></th>\n",
       "      <th></th>\n",
       "    </tr>\n",
       "  </thead>\n",
       "  <tbody>\n",
       "    <tr>\n",
       "      <th>2011-01-03</th>\n",
       "      <td>301.046600</td>\n",
       "      <td>5.324</td>\n",
       "      <td>184.220001</td>\n",
       "    </tr>\n",
       "    <tr>\n",
       "      <th>2011-01-04</th>\n",
       "      <td>299.935760</td>\n",
       "      <td>5.334</td>\n",
       "      <td>185.009995</td>\n",
       "    </tr>\n",
       "    <tr>\n",
       "      <th>2011-01-05</th>\n",
       "      <td>303.397797</td>\n",
       "      <td>5.366</td>\n",
       "      <td>187.419998</td>\n",
       "    </tr>\n",
       "    <tr>\n",
       "      <th>2011-01-06</th>\n",
       "      <td>305.604523</td>\n",
       "      <td>5.576</td>\n",
       "      <td>185.860001</td>\n",
       "    </tr>\n",
       "    <tr>\n",
       "      <th>2011-01-07</th>\n",
       "      <td>307.069031</td>\n",
       "      <td>5.648</td>\n",
       "      <td>185.490005</td>\n",
       "    </tr>\n",
       "  </tbody>\n",
       "</table>\n",
       "</div>"
      ],
      "text/plain": [
       "                  goog   tsla        amzn\n",
       "Date                                     \n",
       "2011-01-03  301.046600  5.324  184.220001\n",
       "2011-01-04  299.935760  5.334  185.009995\n",
       "2011-01-05  303.397797  5.366  187.419998\n",
       "2011-01-06  305.604523  5.576  185.860001\n",
       "2011-01-07  307.069031  5.648  185.490005"
      ]
     },
     "execution_count": 14,
     "metadata": {},
     "output_type": "execute_result"
    }
   ],
   "source": [
    "assetsAdjClose.head() "
   ]
  },
  {
   "cell_type": "code",
   "execution_count": 15,
   "id": "02285d41",
   "metadata": {
    "execution": {
     "iopub.execute_input": "2022-01-17T08:55:05.950956Z",
     "iopub.status.busy": "2022-01-17T08:55:05.949913Z",
     "iopub.status.idle": "2022-01-17T08:55:05.961569Z",
     "shell.execute_reply": "2022-01-17T08:55:05.960965Z"
    },
    "id": "y01EWWDC82yx",
    "outputId": "d3a3cb1c-6f98-4eb7-b9a7-28b704796193",
    "papermill": {
     "duration": 0.037577,
     "end_time": "2022-01-17T08:55:05.961716",
     "exception": false,
     "start_time": "2022-01-17T08:55:05.924139",
     "status": "completed"
    },
    "tags": []
   },
   "outputs": [
    {
     "data": {
      "text/html": [
       "<div>\n",
       "<style scoped>\n",
       "    .dataframe tbody tr th:only-of-type {\n",
       "        vertical-align: middle;\n",
       "    }\n",
       "\n",
       "    .dataframe tbody tr th {\n",
       "        vertical-align: top;\n",
       "    }\n",
       "\n",
       "    .dataframe thead th {\n",
       "        text-align: right;\n",
       "    }\n",
       "</style>\n",
       "<table border=\"1\" class=\"dataframe\">\n",
       "  <thead>\n",
       "    <tr style=\"text-align: right;\">\n",
       "      <th></th>\n",
       "      <th>goog</th>\n",
       "      <th>tsla</th>\n",
       "      <th>amzn</th>\n",
       "    </tr>\n",
       "    <tr>\n",
       "      <th>Date</th>\n",
       "      <th></th>\n",
       "      <th></th>\n",
       "      <th></th>\n",
       "    </tr>\n",
       "  </thead>\n",
       "  <tbody>\n",
       "    <tr>\n",
       "      <th>2020-12-24</th>\n",
       "      <td>1738.849976</td>\n",
       "      <td>661.770020</td>\n",
       "      <td>3172.689941</td>\n",
       "    </tr>\n",
       "    <tr>\n",
       "      <th>2020-12-28</th>\n",
       "      <td>1776.089966</td>\n",
       "      <td>663.690002</td>\n",
       "      <td>3283.959961</td>\n",
       "    </tr>\n",
       "    <tr>\n",
       "      <th>2020-12-29</th>\n",
       "      <td>1758.719971</td>\n",
       "      <td>665.989990</td>\n",
       "      <td>3322.000000</td>\n",
       "    </tr>\n",
       "    <tr>\n",
       "      <th>2020-12-30</th>\n",
       "      <td>1739.520020</td>\n",
       "      <td>694.780029</td>\n",
       "      <td>3285.850098</td>\n",
       "    </tr>\n",
       "    <tr>\n",
       "      <th>2020-12-31</th>\n",
       "      <td>1751.880005</td>\n",
       "      <td>705.669983</td>\n",
       "      <td>3256.929932</td>\n",
       "    </tr>\n",
       "  </tbody>\n",
       "</table>\n",
       "</div>"
      ],
      "text/plain": [
       "                   goog        tsla         amzn\n",
       "Date                                            \n",
       "2020-12-24  1738.849976  661.770020  3172.689941\n",
       "2020-12-28  1776.089966  663.690002  3283.959961\n",
       "2020-12-29  1758.719971  665.989990  3322.000000\n",
       "2020-12-30  1739.520020  694.780029  3285.850098\n",
       "2020-12-31  1751.880005  705.669983  3256.929932"
      ]
     },
     "execution_count": 15,
     "metadata": {},
     "output_type": "execute_result"
    }
   ],
   "source": [
    "assetsAdjClose.tail() "
   ]
  },
  {
   "cell_type": "code",
   "execution_count": 16,
   "id": "c3772f2e",
   "metadata": {
    "execution": {
     "iopub.execute_input": "2022-01-17T08:55:06.017685Z",
     "iopub.status.busy": "2022-01-17T08:55:06.016348Z",
     "iopub.status.idle": "2022-01-17T08:55:06.020078Z",
     "shell.execute_reply": "2022-01-17T08:55:06.020586Z"
    },
    "id": "S8EBcquW87xr",
    "outputId": "790975aa-c795-49bf-e797-15877f481526",
    "papermill": {
     "duration": 0.034565,
     "end_time": "2022-01-17T08:55:06.020766",
     "exception": false,
     "start_time": "2022-01-17T08:55:05.986201",
     "status": "completed"
    },
    "tags": []
   },
   "outputs": [
    {
     "data": {
      "text/plain": [
       "goog    301.046600\n",
       "tsla      5.324000\n",
       "amzn    184.220001\n",
       "Name: 2011-01-03 00:00:00, dtype: float64"
      ]
     },
     "execution_count": 16,
     "metadata": {},
     "output_type": "execute_result"
    }
   ],
   "source": [
    "assetsAdjClose.iloc[0]       #Gives the first row figures of the dataframe."
   ]
  },
  {
   "cell_type": "code",
   "execution_count": 17,
   "id": "91ca45fd",
   "metadata": {
    "execution": {
     "iopub.execute_input": "2022-01-17T08:55:06.071947Z",
     "iopub.status.busy": "2022-01-17T08:55:06.070960Z",
     "iopub.status.idle": "2022-01-17T08:55:06.084728Z",
     "shell.execute_reply": "2022-01-17T08:55:06.084192Z"
    },
    "id": "ovGaZz-e9A2u",
    "outputId": "281ea4a7-295b-4afe-ecfa-bb85505c3cc1",
    "papermill": {
     "duration": 0.04031,
     "end_time": "2022-01-17T08:55:06.084876",
     "exception": false,
     "start_time": "2022-01-17T08:55:06.044566",
     "status": "completed"
    },
    "tags": []
   },
   "outputs": [
    {
     "data": {
      "text/html": [
       "<div>\n",
       "<style scoped>\n",
       "    .dataframe tbody tr th:only-of-type {\n",
       "        vertical-align: middle;\n",
       "    }\n",
       "\n",
       "    .dataframe tbody tr th {\n",
       "        vertical-align: top;\n",
       "    }\n",
       "\n",
       "    .dataframe thead th {\n",
       "        text-align: right;\n",
       "    }\n",
       "</style>\n",
       "<table border=\"1\" class=\"dataframe\">\n",
       "  <thead>\n",
       "    <tr style=\"text-align: right;\">\n",
       "      <th></th>\n",
       "      <th>goog</th>\n",
       "      <th>tsla</th>\n",
       "      <th>amzn</th>\n",
       "    </tr>\n",
       "    <tr>\n",
       "      <th>Date</th>\n",
       "      <th></th>\n",
       "      <th></th>\n",
       "      <th></th>\n",
       "    </tr>\n",
       "  </thead>\n",
       "  <tbody>\n",
       "    <tr>\n",
       "      <th>2011-01-03</th>\n",
       "      <td>NaN</td>\n",
       "      <td>NaN</td>\n",
       "      <td>NaN</td>\n",
       "    </tr>\n",
       "    <tr>\n",
       "      <th>2011-01-04</th>\n",
       "      <td>-0.003690</td>\n",
       "      <td>0.001878</td>\n",
       "      <td>0.004288</td>\n",
       "    </tr>\n",
       "    <tr>\n",
       "      <th>2011-01-05</th>\n",
       "      <td>0.011543</td>\n",
       "      <td>0.005999</td>\n",
       "      <td>0.013026</td>\n",
       "    </tr>\n",
       "    <tr>\n",
       "      <th>2011-01-06</th>\n",
       "      <td>0.007273</td>\n",
       "      <td>0.039135</td>\n",
       "      <td>-0.008324</td>\n",
       "    </tr>\n",
       "    <tr>\n",
       "      <th>2011-01-07</th>\n",
       "      <td>0.004792</td>\n",
       "      <td>0.012912</td>\n",
       "      <td>-0.001991</td>\n",
       "    </tr>\n",
       "  </tbody>\n",
       "</table>\n",
       "</div>"
      ],
      "text/plain": [
       "                goog      tsla      amzn\n",
       "Date                                    \n",
       "2011-01-03       NaN       NaN       NaN\n",
       "2011-01-04 -0.003690  0.001878  0.004288\n",
       "2011-01-05  0.011543  0.005999  0.013026\n",
       "2011-01-06  0.007273  0.039135 -0.008324\n",
       "2011-01-07  0.004792  0.012912 -0.001991"
      ]
     },
     "execution_count": 17,
     "metadata": {},
     "output_type": "execute_result"
    }
   ],
   "source": [
    "returns = (assetsAdjClose/assetsAdjClose.shift(1)) - 1       #calculating simple rate of return\n",
    "returns.head()       #displaying first 5 rows of returns dataframe"
   ]
  },
  {
   "cell_type": "code",
   "execution_count": 18,
   "id": "f6222d26",
   "metadata": {
    "execution": {
     "iopub.execute_input": "2022-01-17T08:55:06.137283Z",
     "iopub.status.busy": "2022-01-17T08:55:06.136562Z",
     "iopub.status.idle": "2022-01-17T08:55:06.141895Z",
     "shell.execute_reply": "2022-01-17T08:55:06.142496Z"
    },
    "id": "uwCBqePJ9G1V",
    "papermill": {
     "duration": 0.033963,
     "end_time": "2022-01-17T08:55:06.142698",
     "exception": false,
     "start_time": "2022-01-17T08:55:06.108735",
     "status": "completed"
    },
    "tags": []
   },
   "outputs": [],
   "source": [
    "weightsDifferent = np.array([0.25, 0.5, 0.25])  #Note: the sum of the weights should be equal to 1.\n",
    "annualReturns = returns.mean()*250"
   ]
  },
  {
   "cell_type": "code",
   "execution_count": 19,
   "id": "24729bb2",
   "metadata": {
    "execution": {
     "iopub.execute_input": "2022-01-17T08:55:06.197053Z",
     "iopub.status.busy": "2022-01-17T08:55:06.196287Z",
     "iopub.status.idle": "2022-01-17T08:55:06.201386Z",
     "shell.execute_reply": "2022-01-17T08:55:06.201936Z"
    },
    "id": "k9DPBx6C9Ofb",
    "outputId": "8965af61-7be8-4b4c-bc05-68a55d647a16",
    "papermill": {
     "duration": 0.032905,
     "end_time": "2022-01-17T08:55:06.202140",
     "exception": false,
     "start_time": "2022-01-17T08:55:06.169235",
     "status": "completed"
    },
    "tags": []
   },
   "outputs": [
    {
     "data": {
      "text/plain": [
       "0.4542034176164449"
      ]
     },
     "execution_count": 19,
     "metadata": {},
     "output_type": "execute_result"
    }
   ],
   "source": [
    "np.dot(annualReturns, weightsDifferent)  # R*WT"
   ]
  },
  {
   "cell_type": "code",
   "execution_count": 20,
   "id": "e299496f",
   "metadata": {
    "execution": {
     "iopub.execute_input": "2022-01-17T08:55:06.254406Z",
     "iopub.status.busy": "2022-01-17T08:55:06.253512Z",
     "iopub.status.idle": "2022-01-17T08:55:06.257563Z",
     "shell.execute_reply": "2022-01-17T08:55:06.258126Z"
    },
    "id": "LG-3Fj1B9P9x",
    "papermill": {
     "duration": 0.031879,
     "end_time": "2022-01-17T08:55:06.258305",
     "exception": false,
     "start_time": "2022-01-17T08:55:06.226426",
     "status": "completed"
    },
    "tags": []
   },
   "outputs": [],
   "source": [
    "portfolioDifferentWeights = str(round(np.dot(annualReturns, weightsDifferent)*100, 5)) + ' %'"
   ]
  },
  {
   "cell_type": "code",
   "execution_count": 21,
   "id": "336140ea",
   "metadata": {
    "execution": {
     "iopub.execute_input": "2022-01-17T08:55:06.312228Z",
     "iopub.status.busy": "2022-01-17T08:55:06.310729Z",
     "iopub.status.idle": "2022-01-17T08:55:06.315473Z",
     "shell.execute_reply": "2022-01-17T08:55:06.316014Z"
    },
    "id": "qjSZKVCq9Uld",
    "outputId": "928b1c1e-477d-46e2-a767-1a50df5743a6",
    "papermill": {
     "duration": 0.032815,
     "end_time": "2022-01-17T08:55:06.316200",
     "exception": false,
     "start_time": "2022-01-17T08:55:06.283385",
     "status": "completed"
    },
    "tags": []
   },
   "outputs": [
    {
     "name": "stdout",
     "output_type": "stream",
     "text": [
      "The cumulative return for portfolio with different weights is  45.42034 %\n"
     ]
    }
   ],
   "source": [
    "print(\"The cumulative return for portfolio with different weights is \", portfolioDifferentWeights)\n"
   ]
  },
  {
   "cell_type": "markdown",
   "id": "e4d9a298",
   "metadata": {
    "id": "8433yPHK_tfV",
    "papermill": {
     "duration": 0.025323,
     "end_time": "2022-01-17T08:55:06.367170",
     "exception": false,
     "start_time": "2022-01-17T08:55:06.341847",
     "status": "completed"
    },
    "tags": []
   },
   "source": [
    "q5\n",
    "google portfolio val drop is very low and and tsla and amzn are same but tsla at one point overcome amzn and the cumutative return for portfoilio weights =45"
   ]
  }
 ],
 "metadata": {
  "kernelspec": {
   "display_name": "Python 3",
   "language": "python",
   "name": "python3"
  },
  "language_info": {
   "codemirror_mode": {
    "name": "ipython",
    "version": 3
   },
   "file_extension": ".py",
   "mimetype": "text/x-python",
   "name": "python",
   "nbconvert_exporter": "python",
   "pygments_lexer": "ipython3",
   "version": "3.7.12"
  },
  "papermill": {
   "default_parameters": {},
   "duration": 28.480643,
   "end_time": "2022-01-17T08:55:07.104905",
   "environment_variables": {},
   "exception": null,
   "input_path": "__notebook__.ipynb",
   "output_path": "__notebook__.ipynb",
   "parameters": {},
   "start_time": "2022-01-17T08:54:38.624262",
   "version": "2.3.3"
  }
 },
 "nbformat": 4,
 "nbformat_minor": 5
}
